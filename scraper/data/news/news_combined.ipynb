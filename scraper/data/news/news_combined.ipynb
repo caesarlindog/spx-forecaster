{
 "metadata": {
  "language_info": {
   "codemirror_mode": {
    "name": "ipython",
    "version": 3
   },
   "file_extension": ".py",
   "mimetype": "text/x-python",
   "name": "python",
   "nbconvert_exporter": "python",
   "pygments_lexer": "ipython3",
   "version": "3.8.5-final"
  },
  "orig_nbformat": 2,
  "kernelspec": {
   "name": "python3",
   "display_name": "Python 3",
   "language": "python"
  }
 },
 "nbformat": 4,
 "nbformat_minor": 2,
 "cells": [
  {
   "cell_type": "code",
   "execution_count": 1,
   "metadata": {},
   "outputs": [
    {
     "output_type": "display_data",
     "data": {
      "text/plain": "<IPython.core.display.Javascript object>",
      "application/javascript": "\n            setTimeout(function() {\n                var nbb_cell_id = 1;\n                var nbb_unformatted_code = \"%load_ext nb_black\";\n                var nbb_formatted_code = \"%load_ext nb_black\";\n                var nbb_cells = Jupyter.notebook.get_cells();\n                for (var i = 0; i < nbb_cells.length; ++i) {\n                    if (nbb_cells[i].input_prompt_number == nbb_cell_id) {\n                        if (nbb_cells[i].get_text() == nbb_unformatted_code) {\n                             nbb_cells[i].set_text(nbb_formatted_code);\n                        }\n                        break;\n                    }\n                }\n            }, 500);\n            "
     },
     "metadata": {}
    }
   ],
   "source": [
    "%load_ext nb_black"
   ]
  },
  {
   "cell_type": "code",
   "execution_count": 2,
   "metadata": {},
   "outputs": [
    {
     "output_type": "display_data",
     "data": {
      "text/plain": "<IPython.core.display.Javascript object>",
      "application/javascript": "\n            setTimeout(function() {\n                var nbb_cell_id = 2;\n                var nbb_unformatted_code = \"import pandas as pd\";\n                var nbb_formatted_code = \"import pandas as pd\";\n                var nbb_cells = Jupyter.notebook.get_cells();\n                for (var i = 0; i < nbb_cells.length; ++i) {\n                    if (nbb_cells[i].input_prompt_number == nbb_cell_id) {\n                        if (nbb_cells[i].get_text() == nbb_unformatted_code) {\n                             nbb_cells[i].set_text(nbb_formatted_code);\n                        }\n                        break;\n                    }\n                }\n            }, 500);\n            "
     },
     "metadata": {}
    }
   ],
   "source": [
    "import pandas as pd"
   ]
  },
  {
   "cell_type": "code",
   "execution_count": 3,
   "metadata": {},
   "outputs": [
    {
     "output_type": "display_data",
     "data": {
      "text/plain": "<IPython.core.display.Javascript object>",
      "application/javascript": "\n            setTimeout(function() {\n                var nbb_cell_id = 3;\n                var nbb_unformatted_code = \"first = pd.read_csv('./news_250.zip')\\nsecond = pd.read_csv('./news_255-400_2021-01-23_1915H -0800.zip')\\ncomb = pd.read_csv('./Combined_News_DJIA.csv')\";\n                var nbb_formatted_code = \"first = pd.read_csv(\\\"./news_250.zip\\\")\\nsecond = pd.read_csv(\\\"./news_255-400_2021-01-23_1915H -0800.zip\\\")\\ncomb = pd.read_csv(\\\"./Combined_News_DJIA.csv\\\")\";\n                var nbb_cells = Jupyter.notebook.get_cells();\n                for (var i = 0; i < nbb_cells.length; ++i) {\n                    if (nbb_cells[i].input_prompt_number == nbb_cell_id) {\n                        if (nbb_cells[i].get_text() == nbb_unformatted_code) {\n                             nbb_cells[i].set_text(nbb_formatted_code);\n                        }\n                        break;\n                    }\n                }\n            }, 500);\n            "
     },
     "metadata": {}
    }
   ],
   "source": [
    "first = pd.read_csv('./news_250.zip')\n",
    "second = pd.read_csv('./news_255-400_2021-01-23_1915H -0800.zip')\n",
    "comb = pd.read_csv('./Combined_News_DJIA.csv')"
   ]
  },
  {
   "cell_type": "code",
   "execution_count": 4,
   "metadata": {},
   "outputs": [
    {
     "output_type": "stream",
     "name": "stdout",
     "text": [
      "<class 'pandas.core.frame.DataFrame'>\nRangeIndex: 14982 entries, 0 to 14981\nData columns (total 2 columns):\n #   Column    Non-Null Count  Dtype \n---  ------    --------------  ----- \n 0   headline  14982 non-null  object\n 1   date      14982 non-null  object\ndtypes: object(2)\nmemory usage: 234.2+ KB\n<class 'pandas.core.frame.DataFrame'>\nRangeIndex: 7716 entries, 0 to 7715\nData columns (total 2 columns):\n #   Column    Non-Null Count  Dtype \n---  ------    --------------  ----- \n 0   headline  7716 non-null   object\n 1   date      7716 non-null   object\ndtypes: object(2)\nmemory usage: 120.7+ KB\n<class 'pandas.core.frame.DataFrame'>\nRangeIndex: 1986 entries, 0 to 1985\nData columns (total 27 columns):\n #   Column  Non-Null Count  Dtype \n---  ------  --------------  ----- \n 0   Date    1986 non-null   object\n 1   Label   1986 non-null   int64 \n 2   Top1    1986 non-null   object\n 3   Top2    1986 non-null   object\n 4   Top3    1986 non-null   object\n 5   Top4    1986 non-null   object\n 6   Top5    1986 non-null   object\n 7   Top6    1986 non-null   object\n 8   Top7    1986 non-null   object\n 9   Top8    1986 non-null   object\n 10  Top9    1986 non-null   object\n 11  Top10   1986 non-null   object\n 12  Top11   1986 non-null   object\n 13  Top12   1986 non-null   object\n 14  Top13   1986 non-null   object\n 15  Top14   1986 non-null   object\n 16  Top15   1986 non-null   object\n 17  Top16   1986 non-null   object\n 18  Top17   1986 non-null   object\n 19  Top18   1986 non-null   object\n 20  Top19   1986 non-null   object\n 21  Top20   1986 non-null   object\n 22  Top21   1986 non-null   object\n 23  Top22   1986 non-null   object\n 24  Top23   1986 non-null   object\n 25  Top24   1986 non-null   object\n 26  Top25   1986 non-null   object\ndtypes: int64(1), object(26)\nmemory usage: 419.0+ KB\nNone None None\n"
     ]
    },
    {
     "output_type": "display_data",
     "data": {
      "text/plain": "<IPython.core.display.Javascript object>",
      "application/javascript": "\n            setTimeout(function() {\n                var nbb_cell_id = 4;\n                var nbb_unformatted_code = \"print(first.info(), second.info(), comb.info())\";\n                var nbb_formatted_code = \"print(first.info(), second.info(), comb.info())\";\n                var nbb_cells = Jupyter.notebook.get_cells();\n                for (var i = 0; i < nbb_cells.length; ++i) {\n                    if (nbb_cells[i].input_prompt_number == nbb_cell_id) {\n                        if (nbb_cells[i].get_text() == nbb_unformatted_code) {\n                             nbb_cells[i].set_text(nbb_formatted_code);\n                        }\n                        break;\n                    }\n                }\n            }, 500);\n            "
     },
     "metadata": {}
    }
   ],
   "source": [
    "print(first.info(), second.info(), comb.info())"
   ]
  },
  {
   "cell_type": "code",
   "execution_count": 5,
   "metadata": {},
   "outputs": [
    {
     "output_type": "display_data",
     "data": {
      "text/plain": "<IPython.core.display.Javascript object>",
      "application/javascript": "\n            setTimeout(function() {\n                var nbb_cell_id = 5;\n                var nbb_unformatted_code = \"comb = comb.rename(columns={'Date' : 'date'})\\ncomb.drop(columns=['Label'], inplace=True)\";\n                var nbb_formatted_code = \"comb = comb.rename(columns={\\\"Date\\\": \\\"date\\\"})\\ncomb.drop(columns=[\\\"Label\\\"], inplace=True)\";\n                var nbb_cells = Jupyter.notebook.get_cells();\n                for (var i = 0; i < nbb_cells.length; ++i) {\n                    if (nbb_cells[i].input_prompt_number == nbb_cell_id) {\n                        if (nbb_cells[i].get_text() == nbb_unformatted_code) {\n                             nbb_cells[i].set_text(nbb_formatted_code);\n                        }\n                        break;\n                    }\n                }\n            }, 500);\n            "
     },
     "metadata": {}
    }
   ],
   "source": [
    "comb = comb.rename(columns={'Date' : 'date'})\n",
    "comb.drop(columns=['Label'], inplace=True)"
   ]
  },
  {
   "cell_type": "code",
   "execution_count": 6,
   "metadata": {},
   "outputs": [
    {
     "output_type": "stream",
     "name": "stdout",
     "text": [
      "<class 'pandas.core.frame.DataFrame'>\nRangeIndex: 14982 entries, 0 to 14981\nData columns (total 2 columns):\n #   Column    Non-Null Count  Dtype \n---  ------    --------------  ----- \n 0   headline  14982 non-null  object\n 1   date      14982 non-null  object\ndtypes: object(2)\nmemory usage: 234.2+ KB\n<class 'pandas.core.frame.DataFrame'>\nRangeIndex: 7716 entries, 0 to 7715\nData columns (total 2 columns):\n #   Column    Non-Null Count  Dtype \n---  ------    --------------  ----- \n 0   headline  7716 non-null   object\n 1   date      7716 non-null   object\ndtypes: object(2)\nmemory usage: 120.7+ KB\n<class 'pandas.core.frame.DataFrame'>\nRangeIndex: 1986 entries, 0 to 1985\nData columns (total 26 columns):\n #   Column  Non-Null Count  Dtype \n---  ------  --------------  ----- \n 0   date    1986 non-null   object\n 1   Top1    1986 non-null   object\n 2   Top2    1986 non-null   object\n 3   Top3    1986 non-null   object\n 4   Top4    1986 non-null   object\n 5   Top5    1986 non-null   object\n 6   Top6    1986 non-null   object\n 7   Top7    1986 non-null   object\n 8   Top8    1986 non-null   object\n 9   Top9    1986 non-null   object\n 10  Top10   1986 non-null   object\n 11  Top11   1986 non-null   object\n 12  Top12   1986 non-null   object\n 13  Top13   1986 non-null   object\n 14  Top14   1986 non-null   object\n 15  Top15   1986 non-null   object\n 16  Top16   1986 non-null   object\n 17  Top17   1986 non-null   object\n 18  Top18   1986 non-null   object\n 19  Top19   1986 non-null   object\n 20  Top20   1986 non-null   object\n 21  Top21   1986 non-null   object\n 22  Top22   1986 non-null   object\n 23  Top23   1986 non-null   object\n 24  Top24   1986 non-null   object\n 25  Top25   1986 non-null   object\ndtypes: object(26)\nmemory usage: 403.5+ KB\nNone None None\n"
     ]
    },
    {
     "output_type": "display_data",
     "data": {
      "text/plain": "<IPython.core.display.Javascript object>",
      "application/javascript": "\n            setTimeout(function() {\n                var nbb_cell_id = 6;\n                var nbb_unformatted_code = \"print(first.info(), second.info(), comb.info())\";\n                var nbb_formatted_code = \"print(first.info(), second.info(), comb.info())\";\n                var nbb_cells = Jupyter.notebook.get_cells();\n                for (var i = 0; i < nbb_cells.length; ++i) {\n                    if (nbb_cells[i].input_prompt_number == nbb_cell_id) {\n                        if (nbb_cells[i].get_text() == nbb_unformatted_code) {\n                             nbb_cells[i].set_text(nbb_formatted_code);\n                        }\n                        break;\n                    }\n                }\n            }, 500);\n            "
     },
     "metadata": {}
    }
   ],
   "source": [
    "print(first.info(), second.info(), comb.info())"
   ]
  },
  {
   "cell_type": "code",
   "execution_count": 7,
   "metadata": {},
   "outputs": [
    {
     "output_type": "display_data",
     "data": {
      "text/plain": "<IPython.core.display.Javascript object>",
      "application/javascript": "\n            setTimeout(function() {\n                var nbb_cell_id = 7;\n                var nbb_unformatted_code = \"for col in list(comb.columns[1:26]):\\n    t1 = comb[col].str.replace('b\\\"', \\\"\\\")\\n    t2 = t1.str.replace(\\\"b'\\\", \\\"\\\")\\n    comb[col] = t2\";\n                var nbb_formatted_code = \"for col in list(comb.columns[1:26]):\\n    t1 = comb[col].str.replace('b\\\"', \\\"\\\")\\n    t2 = t1.str.replace(\\\"b'\\\", \\\"\\\")\\n    comb[col] = t2\";\n                var nbb_cells = Jupyter.notebook.get_cells();\n                for (var i = 0; i < nbb_cells.length; ++i) {\n                    if (nbb_cells[i].input_prompt_number == nbb_cell_id) {\n                        if (nbb_cells[i].get_text() == nbb_unformatted_code) {\n                             nbb_cells[i].set_text(nbb_formatted_code);\n                        }\n                        break;\n                    }\n                }\n            }, 500);\n            "
     },
     "metadata": {}
    }
   ],
   "source": [
    "for col in list(comb.columns[1:26]):\n",
    "    t1 = comb[col].str.replace('b\"', \"\")\n",
    "    t2 = t1.str.replace(\"b'\", \"\")\n",
    "    comb[col] = t2"
   ]
  },
  {
   "cell_type": "code",
   "execution_count": 8,
   "metadata": {},
   "outputs": [
    {
     "output_type": "display_data",
     "data": {
      "text/plain": "<IPython.core.display.Javascript object>",
      "application/javascript": "\n            setTimeout(function() {\n                var nbb_cell_id = 8;\n                var nbb_unformatted_code = \"comb['headline'] = ''\\ncomb_headline_cols = list(comb.iloc[:, 1:26].columns)\";\n                var nbb_formatted_code = \"comb[\\\"headline\\\"] = \\\"\\\"\\ncomb_headline_cols = list(comb.iloc[:, 1:26].columns)\";\n                var nbb_cells = Jupyter.notebook.get_cells();\n                for (var i = 0; i < nbb_cells.length; ++i) {\n                    if (nbb_cells[i].input_prompt_number == nbb_cell_id) {\n                        if (nbb_cells[i].get_text() == nbb_unformatted_code) {\n                             nbb_cells[i].set_text(nbb_formatted_code);\n                        }\n                        break;\n                    }\n                }\n            }, 500);\n            "
     },
     "metadata": {}
    }
   ],
   "source": [
    "comb['headline'] = ''\n",
    "comb_headline_cols = list(comb.iloc[:, 1:26].columns)"
   ]
  },
  {
   "cell_type": "code",
   "execution_count": 9,
   "metadata": {},
   "outputs": [
    {
     "output_type": "display_data",
     "data": {
      "text/plain": "<IPython.core.display.Javascript object>",
      "application/javascript": "\n            setTimeout(function() {\n                var nbb_cell_id = 9;\n                var nbb_unformatted_code = \"for col in comb_headline_cols:\\n    comb['headline'] = comb['headline'] + ' ' + comb[col]\";\n                var nbb_formatted_code = \"for col in comb_headline_cols:\\n    comb[\\\"headline\\\"] = comb[\\\"headline\\\"] + \\\" \\\" + comb[col]\";\n                var nbb_cells = Jupyter.notebook.get_cells();\n                for (var i = 0; i < nbb_cells.length; ++i) {\n                    if (nbb_cells[i].input_prompt_number == nbb_cell_id) {\n                        if (nbb_cells[i].get_text() == nbb_unformatted_code) {\n                             nbb_cells[i].set_text(nbb_formatted_code);\n                        }\n                        break;\n                    }\n                }\n            }, 500);\n            "
     },
     "metadata": {}
    }
   ],
   "source": [
    "for col in comb_headline_cols:\n",
    "    comb['headline'] = comb['headline'] + ' ' + comb[col]"
   ]
  },
  {
   "cell_type": "code",
   "execution_count": 10,
   "metadata": {},
   "outputs": [
    {
     "output_type": "execute_result",
     "data": {
      "text/plain": [
       "         date                                               Top1  \\\n",
       "0  2008-08-08  Georgia 'downs two Russian warplanes' as count...   \n",
       "1  2008-08-11  Why wont America and Nato help us? If they won...   \n",
       "2  2008-08-12  Remember that adorable 9-year-old who sang at ...   \n",
       "3  2008-08-13   U.S. refuses Israel weapons to attack Iran: r...   \n",
       "4  2008-08-14  All the experts admit that we should legalise ...   \n",
       "\n",
       "                                                Top2  \\\n",
       "0              BREAKING: Musharraf to be impeached.'   \n",
       "1          Bush puts foot down on Georgian conflict'   \n",
       "2                   Russia 'ends Georgia operation'\"   \n",
       "3  When the president ordered to attack Tskhinval...   \n",
       "4  War in South Osetia - 89 pictures made by a Ru...   \n",
       "\n",
       "                                                Top3  \\\n",
       "0  Russia Today: Columns of troops roll into Sout...   \n",
       "1  Jewish Georgian minister: Thanks to Israeli tr...   \n",
       "2  \"If we had no sexual harassment we would have ...   \n",
       "3   Israel clears troops who killed Reuters camer...   \n",
       "4  Swedish wrestler Ara Abrahamian throws away me...   \n",
       "\n",
       "                                                Top4  \\\n",
       "0  Russian tanks are moving towards the capital o...   \n",
       "1  Georgian army flees in disarray as Russians ad...   \n",
       "2  Al-Qa'eda is losing support in Iraq because of...   \n",
       "3  Britain\\'s policy of being tough on drugs is \"...   \n",
       "4  Russia exaggerated the death toll in South Oss...   \n",
       "\n",
       "                                                Top5  \\\n",
       "0  Afghan children raped with 'impunity,' U.N. of...   \n",
       "1        Olympic opening ceremony fireworks 'faked'\"   \n",
       "2  Ceasefire in Georgia: Putin Outmaneuvers the W...   \n",
       "3  Body of 14 year old found in trunk; Latest (ra...   \n",
       "4  Missile That Killed 9 Inside Pakistan May Have...   \n",
       "\n",
       "                                                Top6  \\\n",
       "0  150 Russian tanks have entered South Ossetia w...   \n",
       "1  What were the Mossad with fraudulent New Zeala...   \n",
       "2  Why Microsoft and Intel tried to kill the XO $...   \n",
       "3  China has moved 10 *million* quake survivors i...   \n",
       "4  Rushdie Condemns Random House's Refusal to Pub...   \n",
       "\n",
       "                                                Top7  \\\n",
       "0  Breaking: Georgia invades South Ossetia, Russi...   \n",
       "1  Russia angered by Israeli military sale to Geo...   \n",
       "2  Stratfor: The Russo-Georgian War and the Balan...   \n",
       "3  Bush announces Operation Get All Up In Russia'...   \n",
       "4  Poland and US agree to missle defense deal. In...   \n",
       "\n",
       "                                                Top8  \\\n",
       "0  The 'enemy combatent' trials are nothing but a...   \n",
       "1  An American citizen living in S.Ossetia blames...   \n",
       "2  I'm Trying to Get a Sense of This Whole Georgi...   \n",
       "3               Russian forces sink Georgian ships '   \n",
       "4  Will the Russians conquer Tblisi? Bet on it, n...   \n",
       "\n",
       "                                                Top9  ...  \\\n",
       "0  Georgian troops retreat from S. Osettain capit...  ...   \n",
       "1  Welcome To World War IV! Now In High Definition!'  ...   \n",
       "2  The US military was surprised by the timing an...  ...   \n",
       "3  The commander of a Navy air reconnaissance squ...  ...   \n",
       "4  Russia exaggerating South Ossetian death toll,...  ...   \n",
       "\n",
       "                                               Top17  \\\n",
       "0                  Al-Qaeda Faces Islamist Backlash'   \n",
       "1  \"Do not believe TV, neither Russian nor Georgi...   \n",
       "2         Why Russias response to Georgia was right'   \n",
       "3  US humanitarian missions soon in Georgia - if ...   \n",
       "4  Georgia confict could set back Russia's US rel...   \n",
       "\n",
       "                                               Top18  \\\n",
       "0  Condoleezza Rice: \"The US would not act to pre...   \n",
       "1  Riots are still going on in Montreal (Canada) ...   \n",
       "2  Gorbachev accuses U.S. of making a \"serious bl...   \n",
       "3               Georgia's DDOS came from US sources\"   \n",
       "4  War in the Caucasus is as much the product of ...   \n",
       "\n",
       "                                               Top19  \\\n",
       "0  This is a busy day:  The European Union has ap...   \n",
       "1      China to overtake US as largest manufacturer'   \n",
       "2           Russia, Georgia, and NATO: Cold War Two'   \n",
       "3  Russian convoy heads into Georgia, violating t...   \n",
       "4  \"Non-media\" photos of South Ossetia/Georgia co...   \n",
       "\n",
       "                                               Top20  \\\n",
       "0  Georgia will withdraw 1,000 soldiers from Iraq...   \n",
       "1                       War in South Ossetia [PICS]'   \n",
       "2  Remember that adorable 62-year-old who led you...   \n",
       "3  Israeli defence minister: US against strike on...   \n",
       "4  Georgian TV reporter shot by Russian sniper du...   \n",
       "\n",
       "                                               Top21  \\\n",
       "0  Why the Pentagon Thinks Attacking Iran is a Ba...   \n",
       "1   Israeli Physicians Group Condemns State Torture'   \n",
       "2            War in Georgia: The Israeli connection'   \n",
       "3                       Gorbachev: We Had No Choice'   \n",
       "4  Saudi Arabia: Mother moves to block child marr...   \n",
       "\n",
       "                                               Top22  \\\n",
       "0  Caucasus in crisis: Georgia invades South Osse...   \n",
       "1   Russia has just beaten the United States over...   \n",
       "2  All signs point to the US encouraging Georgia ...   \n",
       "3  Witness: Russian forces head towards Tbilisi i...   \n",
       "4     Taliban wages war on humanitarian aid workers'   \n",
       "\n",
       "                                               Top23  \\\n",
       "0  Indian shoe manufactory  - And again in a seri...   \n",
       "1  Perhaps *the* question about the Georgia - Rus...   \n",
       "2  Christopher King argues that the US and NATO a...   \n",
       "3   Quarter of Russians blame U.S. for conflict: ...   \n",
       "4  Russia: World  \"can forget about\" Georgia\\'s t...   \n",
       "\n",
       "                                               Top24  \\\n",
       "0  Visitors Suffering from Mental Illnesses Banne...   \n",
       "1                   Russia is so much better at war'   \n",
       "2                          America: The New Mexico?'   \n",
       "3  Georgian president  says US military will take...   \n",
       "4  Darfur rebels accuse Sudan of mounting major a...   \n",
       "\n",
       "                                               Top25  \\\n",
       "0             No Help for Mexico's Kidnapping Surge\"   \n",
       "1  So this is what it's come to: trading sex for ...   \n",
       "2  BBC NEWS | Asia-Pacific | Extinction 'by man n...   \n",
       "3  2006: Nobel laureate Aleksander Solzhenitsyn a...   \n",
       "4  Philippines : Peace Advocate say Muslims need ...   \n",
       "\n",
       "                                            headline  \n",
       "0   Georgia 'downs two Russian warplanes' as coun...  \n",
       "1   Why wont America and Nato help us? If they wo...  \n",
       "2   Remember that adorable 9-year-old who sang at...  \n",
       "3    U.S. refuses Israel weapons to attack Iran: ...  \n",
       "4   All the experts admit that we should legalise...  \n",
       "\n",
       "[5 rows x 27 columns]"
      ],
      "text/html": "<div>\n<style scoped>\n    .dataframe tbody tr th:only-of-type {\n        vertical-align: middle;\n    }\n\n    .dataframe tbody tr th {\n        vertical-align: top;\n    }\n\n    .dataframe thead th {\n        text-align: right;\n    }\n</style>\n<table border=\"1\" class=\"dataframe\">\n  <thead>\n    <tr style=\"text-align: right;\">\n      <th></th>\n      <th>date</th>\n      <th>Top1</th>\n      <th>Top2</th>\n      <th>Top3</th>\n      <th>Top4</th>\n      <th>Top5</th>\n      <th>Top6</th>\n      <th>Top7</th>\n      <th>Top8</th>\n      <th>Top9</th>\n      <th>...</th>\n      <th>Top17</th>\n      <th>Top18</th>\n      <th>Top19</th>\n      <th>Top20</th>\n      <th>Top21</th>\n      <th>Top22</th>\n      <th>Top23</th>\n      <th>Top24</th>\n      <th>Top25</th>\n      <th>headline</th>\n    </tr>\n  </thead>\n  <tbody>\n    <tr>\n      <th>0</th>\n      <td>2008-08-08</td>\n      <td>Georgia 'downs two Russian warplanes' as count...</td>\n      <td>BREAKING: Musharraf to be impeached.'</td>\n      <td>Russia Today: Columns of troops roll into Sout...</td>\n      <td>Russian tanks are moving towards the capital o...</td>\n      <td>Afghan children raped with 'impunity,' U.N. of...</td>\n      <td>150 Russian tanks have entered South Ossetia w...</td>\n      <td>Breaking: Georgia invades South Ossetia, Russi...</td>\n      <td>The 'enemy combatent' trials are nothing but a...</td>\n      <td>Georgian troops retreat from S. Osettain capit...</td>\n      <td>...</td>\n      <td>Al-Qaeda Faces Islamist Backlash'</td>\n      <td>Condoleezza Rice: \"The US would not act to pre...</td>\n      <td>This is a busy day:  The European Union has ap...</td>\n      <td>Georgia will withdraw 1,000 soldiers from Iraq...</td>\n      <td>Why the Pentagon Thinks Attacking Iran is a Ba...</td>\n      <td>Caucasus in crisis: Georgia invades South Osse...</td>\n      <td>Indian shoe manufactory  - And again in a seri...</td>\n      <td>Visitors Suffering from Mental Illnesses Banne...</td>\n      <td>No Help for Mexico's Kidnapping Surge\"</td>\n      <td>Georgia 'downs two Russian warplanes' as coun...</td>\n    </tr>\n    <tr>\n      <th>1</th>\n      <td>2008-08-11</td>\n      <td>Why wont America and Nato help us? If they won...</td>\n      <td>Bush puts foot down on Georgian conflict'</td>\n      <td>Jewish Georgian minister: Thanks to Israeli tr...</td>\n      <td>Georgian army flees in disarray as Russians ad...</td>\n      <td>Olympic opening ceremony fireworks 'faked'\"</td>\n      <td>What were the Mossad with fraudulent New Zeala...</td>\n      <td>Russia angered by Israeli military sale to Geo...</td>\n      <td>An American citizen living in S.Ossetia blames...</td>\n      <td>Welcome To World War IV! Now In High Definition!'</td>\n      <td>...</td>\n      <td>\"Do not believe TV, neither Russian nor Georgi...</td>\n      <td>Riots are still going on in Montreal (Canada) ...</td>\n      <td>China to overtake US as largest manufacturer'</td>\n      <td>War in South Ossetia [PICS]'</td>\n      <td>Israeli Physicians Group Condemns State Torture'</td>\n      <td>Russia has just beaten the United States over...</td>\n      <td>Perhaps *the* question about the Georgia - Rus...</td>\n      <td>Russia is so much better at war'</td>\n      <td>So this is what it's come to: trading sex for ...</td>\n      <td>Why wont America and Nato help us? If they wo...</td>\n    </tr>\n    <tr>\n      <th>2</th>\n      <td>2008-08-12</td>\n      <td>Remember that adorable 9-year-old who sang at ...</td>\n      <td>Russia 'ends Georgia operation'\"</td>\n      <td>\"If we had no sexual harassment we would have ...</td>\n      <td>Al-Qa'eda is losing support in Iraq because of...</td>\n      <td>Ceasefire in Georgia: Putin Outmaneuvers the W...</td>\n      <td>Why Microsoft and Intel tried to kill the XO $...</td>\n      <td>Stratfor: The Russo-Georgian War and the Balan...</td>\n      <td>I'm Trying to Get a Sense of This Whole Georgi...</td>\n      <td>The US military was surprised by the timing an...</td>\n      <td>...</td>\n      <td>Why Russias response to Georgia was right'</td>\n      <td>Gorbachev accuses U.S. of making a \"serious bl...</td>\n      <td>Russia, Georgia, and NATO: Cold War Two'</td>\n      <td>Remember that adorable 62-year-old who led you...</td>\n      <td>War in Georgia: The Israeli connection'</td>\n      <td>All signs point to the US encouraging Georgia ...</td>\n      <td>Christopher King argues that the US and NATO a...</td>\n      <td>America: The New Mexico?'</td>\n      <td>BBC NEWS | Asia-Pacific | Extinction 'by man n...</td>\n      <td>Remember that adorable 9-year-old who sang at...</td>\n    </tr>\n    <tr>\n      <th>3</th>\n      <td>2008-08-13</td>\n      <td>U.S. refuses Israel weapons to attack Iran: r...</td>\n      <td>When the president ordered to attack Tskhinval...</td>\n      <td>Israel clears troops who killed Reuters camer...</td>\n      <td>Britain\\'s policy of being tough on drugs is \"...</td>\n      <td>Body of 14 year old found in trunk; Latest (ra...</td>\n      <td>China has moved 10 *million* quake survivors i...</td>\n      <td>Bush announces Operation Get All Up In Russia'...</td>\n      <td>Russian forces sink Georgian ships '</td>\n      <td>The commander of a Navy air reconnaissance squ...</td>\n      <td>...</td>\n      <td>US humanitarian missions soon in Georgia - if ...</td>\n      <td>Georgia's DDOS came from US sources\"</td>\n      <td>Russian convoy heads into Georgia, violating t...</td>\n      <td>Israeli defence minister: US against strike on...</td>\n      <td>Gorbachev: We Had No Choice'</td>\n      <td>Witness: Russian forces head towards Tbilisi i...</td>\n      <td>Quarter of Russians blame U.S. for conflict: ...</td>\n      <td>Georgian president  says US military will take...</td>\n      <td>2006: Nobel laureate Aleksander Solzhenitsyn a...</td>\n      <td>U.S. refuses Israel weapons to attack Iran: ...</td>\n    </tr>\n    <tr>\n      <th>4</th>\n      <td>2008-08-14</td>\n      <td>All the experts admit that we should legalise ...</td>\n      <td>War in South Osetia - 89 pictures made by a Ru...</td>\n      <td>Swedish wrestler Ara Abrahamian throws away me...</td>\n      <td>Russia exaggerated the death toll in South Oss...</td>\n      <td>Missile That Killed 9 Inside Pakistan May Have...</td>\n      <td>Rushdie Condemns Random House's Refusal to Pub...</td>\n      <td>Poland and US agree to missle defense deal. In...</td>\n      <td>Will the Russians conquer Tblisi? Bet on it, n...</td>\n      <td>Russia exaggerating South Ossetian death toll,...</td>\n      <td>...</td>\n      <td>Georgia confict could set back Russia's US rel...</td>\n      <td>War in the Caucasus is as much the product of ...</td>\n      <td>\"Non-media\" photos of South Ossetia/Georgia co...</td>\n      <td>Georgian TV reporter shot by Russian sniper du...</td>\n      <td>Saudi Arabia: Mother moves to block child marr...</td>\n      <td>Taliban wages war on humanitarian aid workers'</td>\n      <td>Russia: World  \"can forget about\" Georgia\\'s t...</td>\n      <td>Darfur rebels accuse Sudan of mounting major a...</td>\n      <td>Philippines : Peace Advocate say Muslims need ...</td>\n      <td>All the experts admit that we should legalise...</td>\n    </tr>\n  </tbody>\n</table>\n<p>5 rows × 27 columns</p>\n</div>"
     },
     "metadata": {},
     "execution_count": 10
    },
    {
     "output_type": "display_data",
     "data": {
      "text/plain": "<IPython.core.display.Javascript object>",
      "application/javascript": "\n            setTimeout(function() {\n                var nbb_cell_id = 10;\n                var nbb_unformatted_code = \"comb.head()\";\n                var nbb_formatted_code = \"comb.head()\";\n                var nbb_cells = Jupyter.notebook.get_cells();\n                for (var i = 0; i < nbb_cells.length; ++i) {\n                    if (nbb_cells[i].input_prompt_number == nbb_cell_id) {\n                        if (nbb_cells[i].get_text() == nbb_unformatted_code) {\n                             nbb_cells[i].set_text(nbb_formatted_code);\n                        }\n                        break;\n                    }\n                }\n            }, 500);\n            "
     },
     "metadata": {}
    }
   ],
   "source": [
    "comb.head()"
   ]
  },
  {
   "cell_type": "code",
   "execution_count": 11,
   "metadata": {},
   "outputs": [
    {
     "output_type": "display_data",
     "data": {
      "text/plain": "<IPython.core.display.Javascript object>",
      "application/javascript": "\n            setTimeout(function() {\n                var nbb_cell_id = 11;\n                var nbb_unformatted_code = \"comb_ = comb[['date', 'headline']]\";\n                var nbb_formatted_code = \"comb_ = comb[[\\\"date\\\", \\\"headline\\\"]]\";\n                var nbb_cells = Jupyter.notebook.get_cells();\n                for (var i = 0; i < nbb_cells.length; ++i) {\n                    if (nbb_cells[i].input_prompt_number == nbb_cell_id) {\n                        if (nbb_cells[i].get_text() == nbb_unformatted_code) {\n                             nbb_cells[i].set_text(nbb_formatted_code);\n                        }\n                        break;\n                    }\n                }\n            }, 500);\n            "
     },
     "metadata": {}
    }
   ],
   "source": [
    "comb_ = comb[['date', 'headline']]"
   ]
  },
  {
   "cell_type": "code",
   "execution_count": 12,
   "metadata": {},
   "outputs": [
    {
     "output_type": "display_data",
     "data": {
      "text/plain": "<IPython.core.display.Javascript object>",
      "application/javascript": "\n            setTimeout(function() {\n                var nbb_cell_id = 12;\n                var nbb_unformatted_code = \"# converting all date to datetime then using groupby for scraped news headlines by date only\\nfirst['date'] = pd.to_datetime(first['date'])\\nsecond['date'] = pd.to_datetime(second['date'])\\ncomb_['date'] = pd.to_datetime(comb_['date'])\\n\\nfirst['date'] = first.date.dt.date\\nsecond['date'] = second.date.dt.date\\ncomb_['date'] = comb_.date.dt.date\\n\\nfirst_ = first.groupby(by='date').agg({'headline' : 'sum'}).reset_index()\\nsecond_ = second.groupby(by='date').agg({'headline' : 'sum'}).reset_index()\";\n                var nbb_formatted_code = \"# converting all date to datetime then using groupby for scraped news headlines by date only\\nfirst[\\\"date\\\"] = pd.to_datetime(first[\\\"date\\\"])\\nsecond[\\\"date\\\"] = pd.to_datetime(second[\\\"date\\\"])\\ncomb_[\\\"date\\\"] = pd.to_datetime(comb_[\\\"date\\\"])\\n\\nfirst[\\\"date\\\"] = first.date.dt.date\\nsecond[\\\"date\\\"] = second.date.dt.date\\ncomb_[\\\"date\\\"] = comb_.date.dt.date\\n\\nfirst_ = first.groupby(by=\\\"date\\\").agg({\\\"headline\\\": \\\"sum\\\"}).reset_index()\\nsecond_ = second.groupby(by=\\\"date\\\").agg({\\\"headline\\\": \\\"sum\\\"}).reset_index()\";\n                var nbb_cells = Jupyter.notebook.get_cells();\n                for (var i = 0; i < nbb_cells.length; ++i) {\n                    if (nbb_cells[i].input_prompt_number == nbb_cell_id) {\n                        if (nbb_cells[i].get_text() == nbb_unformatted_code) {\n                             nbb_cells[i].set_text(nbb_formatted_code);\n                        }\n                        break;\n                    }\n                }\n            }, 500);\n            "
     },
     "metadata": {}
    }
   ],
   "source": [
    "# converting all date to datetime then using groupby for scraped news headlines by date only\n",
    "first['date'] = pd.to_datetime(first['date'])\n",
    "second['date'] = pd.to_datetime(second['date'])\n",
    "comb_['date'] = pd.to_datetime(comb_['date'])\n",
    "\n",
    "first['date'] = first.date.dt.date\n",
    "second['date'] = second.date.dt.date\n",
    "comb_['date'] = comb_.date.dt.date\n",
    "\n",
    "first_ = first.groupby(by='date').agg({'headline' : 'sum'}).reset_index()\n",
    "second_ = second.groupby(by='date').agg({'headline' : 'sum'}).reset_index()"
   ]
  },
  {
   "cell_type": "code",
   "execution_count": 13,
   "metadata": {},
   "outputs": [
    {
     "output_type": "stream",
     "name": "stdout",
     "text": [
      "(1384, 2) (1194, 2)\n"
     ]
    },
    {
     "output_type": "display_data",
     "data": {
      "text/plain": "<IPython.core.display.Javascript object>",
      "application/javascript": "\n            setTimeout(function() {\n                var nbb_cell_id = 13;\n                var nbb_unformatted_code = \"print(first_.shape, second_.shape)\";\n                var nbb_formatted_code = \"print(first_.shape, second_.shape)\";\n                var nbb_cells = Jupyter.notebook.get_cells();\n                for (var i = 0; i < nbb_cells.length; ++i) {\n                    if (nbb_cells[i].input_prompt_number == nbb_cell_id) {\n                        if (nbb_cells[i].get_text() == nbb_unformatted_code) {\n                             nbb_cells[i].set_text(nbb_formatted_code);\n                        }\n                        break;\n                    }\n                }\n            }, 500);\n            "
     },
     "metadata": {}
    }
   ],
   "source": [
    "print(first_.shape, second_.shape)"
   ]
  },
  {
   "source": [
    "Now that all of them have been considerably shortened, we can now move onto concatenating them all."
   ],
   "cell_type": "markdown",
   "metadata": {}
  },
  {
   "cell_type": "code",
   "execution_count": 14,
   "metadata": {},
   "outputs": [
    {
     "output_type": "execute_result",
     "data": {
      "text/plain": [
       "         date                                           headline\n",
       "0  2016-09-02  Cramer Remix: How to know when the market's mo...\n",
       "1  2016-09-06  Cramer Remix: Time to stash an elevated amount...\n",
       "2  2016-09-07  Cramer: Too much headline risk for me to like ...\n",
       "3  2016-09-08  Cramer Remix: The black hole that investors ar...\n",
       "4  2016-09-09  Cramer: A stock with $1 downside and a $3 upsi..."
      ],
      "text/html": "<div>\n<style scoped>\n    .dataframe tbody tr th:only-of-type {\n        vertical-align: middle;\n    }\n\n    .dataframe tbody tr th {\n        vertical-align: top;\n    }\n\n    .dataframe thead th {\n        text-align: right;\n    }\n</style>\n<table border=\"1\" class=\"dataframe\">\n  <thead>\n    <tr style=\"text-align: right;\">\n      <th></th>\n      <th>date</th>\n      <th>headline</th>\n    </tr>\n  </thead>\n  <tbody>\n    <tr>\n      <th>0</th>\n      <td>2016-09-02</td>\n      <td>Cramer Remix: How to know when the market's mo...</td>\n    </tr>\n    <tr>\n      <th>1</th>\n      <td>2016-09-06</td>\n      <td>Cramer Remix: Time to stash an elevated amount...</td>\n    </tr>\n    <tr>\n      <th>2</th>\n      <td>2016-09-07</td>\n      <td>Cramer: Too much headline risk for me to like ...</td>\n    </tr>\n    <tr>\n      <th>3</th>\n      <td>2016-09-08</td>\n      <td>Cramer Remix: The black hole that investors ar...</td>\n    </tr>\n    <tr>\n      <th>4</th>\n      <td>2016-09-09</td>\n      <td>Cramer: A stock with $1 downside and a $3 upsi...</td>\n    </tr>\n  </tbody>\n</table>\n</div>"
     },
     "metadata": {},
     "execution_count": 14
    },
    {
     "output_type": "display_data",
     "data": {
      "text/plain": "<IPython.core.display.Javascript object>",
      "application/javascript": "\n            setTimeout(function() {\n                var nbb_cell_id = 14;\n                var nbb_unformatted_code = \"news = pd.concat([first_, second_, comb_], ignore_index=True)\\nnews.head()\";\n                var nbb_formatted_code = \"news = pd.concat([first_, second_, comb_], ignore_index=True)\\nnews.head()\";\n                var nbb_cells = Jupyter.notebook.get_cells();\n                for (var i = 0; i < nbb_cells.length; ++i) {\n                    if (nbb_cells[i].input_prompt_number == nbb_cell_id) {\n                        if (nbb_cells[i].get_text() == nbb_unformatted_code) {\n                             nbb_cells[i].set_text(nbb_formatted_code);\n                        }\n                        break;\n                    }\n                }\n            }, 500);\n            "
     },
     "metadata": {}
    }
   ],
   "source": [
    "news = pd.concat([first_, second_, comb_], ignore_index=True)\n",
    "news.head()"
   ]
  },
  {
   "cell_type": "code",
   "execution_count": 15,
   "metadata": {},
   "outputs": [
    {
     "output_type": "display_data",
     "data": {
      "text/plain": "<IPython.core.display.Javascript object>",
      "application/javascript": "\n            setTimeout(function() {\n                var nbb_cell_id = 15;\n                var nbb_unformatted_code = \"news_ = news.groupby(by='date').agg({'headline' : 'sum'}).reset_index()\\nnews_['date'] = pd.to_datetime(news_['date'])\";\n                var nbb_formatted_code = \"news_ = news.groupby(by=\\\"date\\\").agg({\\\"headline\\\": \\\"sum\\\"}).reset_index()\\nnews_[\\\"date\\\"] = pd.to_datetime(news_[\\\"date\\\"])\";\n                var nbb_cells = Jupyter.notebook.get_cells();\n                for (var i = 0; i < nbb_cells.length; ++i) {\n                    if (nbb_cells[i].input_prompt_number == nbb_cell_id) {\n                        if (nbb_cells[i].get_text() == nbb_unformatted_code) {\n                             nbb_cells[i].set_text(nbb_formatted_code);\n                        }\n                        break;\n                    }\n                }\n            }, 500);\n            "
     },
     "metadata": {}
    }
   ],
   "source": [
    "news_ = news.groupby(by='date').agg({'headline' : 'sum'}).reset_index()\n",
    "news_['date'] = pd.to_datetime(news_['date'])"
   ]
  },
  {
   "cell_type": "code",
   "execution_count": 16,
   "metadata": {},
   "outputs": [
    {
     "output_type": "display_data",
     "data": {
      "text/plain": "<IPython.core.display.Javascript object>",
      "application/javascript": "\n            setTimeout(function() {\n                var nbb_cell_id = 16;\n                var nbb_unformatted_code = \"news_.to_csv('./news_complete.zip', index=False, compression='zip')\";\n                var nbb_formatted_code = \"news_.to_csv(\\\"./news_complete.zip\\\", index=False, compression=\\\"zip\\\")\";\n                var nbb_cells = Jupyter.notebook.get_cells();\n                for (var i = 0; i < nbb_cells.length; ++i) {\n                    if (nbb_cells[i].input_prompt_number == nbb_cell_id) {\n                        if (nbb_cells[i].get_text() == nbb_unformatted_code) {\n                             nbb_cells[i].set_text(nbb_formatted_code);\n                        }\n                        break;\n                    }\n                }\n            }, 500);\n            "
     },
     "metadata": {}
    }
   ],
   "source": [
    "news_.to_csv('./news_complete.zip', index=False, compression='zip')"
   ]
  },
  {
   "cell_type": "code",
   "execution_count": 17,
   "metadata": {},
   "outputs": [
    {
     "output_type": "stream",
     "name": "stdout",
     "text": [
      "<class 'pandas.core.frame.DataFrame'>\nRangeIndex: 23376 entries, 0 to 23375\nData columns (total 7 columns):\n #   Column     Non-Null Count  Dtype  \n---  ------     --------------  -----  \n 0   Date       23376 non-null  object \n 1   Open       23376 non-null  float64\n 2   High       23376 non-null  float64\n 3   Low        23376 non-null  float64\n 4   Close      23376 non-null  float64\n 5   Adj Close  23376 non-null  float64\n 6   Volume     23376 non-null  int64  \ndtypes: float64(5), int64(1), object(1)\nmemory usage: 1.2+ MB\n"
     ]
    },
    {
     "output_type": "display_data",
     "data": {
      "text/plain": "<IPython.core.display.Javascript object>",
      "application/javascript": "\n            setTimeout(function() {\n                var nbb_cell_id = 17;\n                var nbb_unformatted_code = \"spx = pd.read_csv('./gspc_max.zip')\\nspx.info()\";\n                var nbb_formatted_code = \"spx = pd.read_csv(\\\"./gspc_max.zip\\\")\\nspx.info()\";\n                var nbb_cells = Jupyter.notebook.get_cells();\n                for (var i = 0; i < nbb_cells.length; ++i) {\n                    if (nbb_cells[i].input_prompt_number == nbb_cell_id) {\n                        if (nbb_cells[i].get_text() == nbb_unformatted_code) {\n                             nbb_cells[i].set_text(nbb_formatted_code);\n                        }\n                        break;\n                    }\n                }\n            }, 500);\n            "
     },
     "metadata": {}
    }
   ],
   "source": [
    "spx = pd.read_csv('./gspc_max.zip')\n",
    "spx.info()"
   ]
  },
  {
   "source": [
    "We need to convert date to datetime dtype after renaming it for uniformity."
   ],
   "cell_type": "markdown",
   "metadata": {}
  },
  {
   "cell_type": "code",
   "execution_count": 18,
   "metadata": {},
   "outputs": [
    {
     "output_type": "display_data",
     "data": {
      "text/plain": "<IPython.core.display.Javascript object>",
      "application/javascript": "\n            setTimeout(function() {\n                var nbb_cell_id = 18;\n                var nbb_unformatted_code = \"spx = spx.rename(columns={'Date' : 'date'})\";\n                var nbb_formatted_code = \"spx = spx.rename(columns={\\\"Date\\\": \\\"date\\\"})\";\n                var nbb_cells = Jupyter.notebook.get_cells();\n                for (var i = 0; i < nbb_cells.length; ++i) {\n                    if (nbb_cells[i].input_prompt_number == nbb_cell_id) {\n                        if (nbb_cells[i].get_text() == nbb_unformatted_code) {\n                             nbb_cells[i].set_text(nbb_formatted_code);\n                        }\n                        break;\n                    }\n                }\n            }, 500);\n            "
     },
     "metadata": {}
    }
   ],
   "source": [
    "spx = spx.rename(columns={'Date' : 'date'})"
   ]
  },
  {
   "cell_type": "code",
   "execution_count": 19,
   "metadata": {},
   "outputs": [
    {
     "output_type": "execute_result",
     "data": {
      "text/plain": [
       "             date         Open         High          Low        Close  \\\n",
       "23371  2021-01-15  3788.729980  3788.729980  3749.620117  3768.250000   \n",
       "23372  2021-01-19  3781.879883  3804.530029  3780.370117  3798.909912   \n",
       "23373  2021-01-20  3816.219971  3859.750000  3816.219971  3851.850098   \n",
       "23374  2021-01-21  3857.459961  3861.449951  3845.050049  3853.070068   \n",
       "23375  2021-01-22  3844.239990  3852.310059  3830.409912  3841.469971   \n",
       "\n",
       "         Adj Close      Volume       Diff  \n",
       "23371  3768.250000  5353060000 -20.479980  \n",
       "23372  3798.909912  4982940000  17.030029  \n",
       "23373  3851.850098  4551790000  35.630127  \n",
       "23374  3853.070068  4484460000  -4.389893  \n",
       "23375  3841.469971  5080430000  -2.770020  "
      ],
      "text/html": "<div>\n<style scoped>\n    .dataframe tbody tr th:only-of-type {\n        vertical-align: middle;\n    }\n\n    .dataframe tbody tr th {\n        vertical-align: top;\n    }\n\n    .dataframe thead th {\n        text-align: right;\n    }\n</style>\n<table border=\"1\" class=\"dataframe\">\n  <thead>\n    <tr style=\"text-align: right;\">\n      <th></th>\n      <th>date</th>\n      <th>Open</th>\n      <th>High</th>\n      <th>Low</th>\n      <th>Close</th>\n      <th>Adj Close</th>\n      <th>Volume</th>\n      <th>Diff</th>\n    </tr>\n  </thead>\n  <tbody>\n    <tr>\n      <th>23371</th>\n      <td>2021-01-15</td>\n      <td>3788.729980</td>\n      <td>3788.729980</td>\n      <td>3749.620117</td>\n      <td>3768.250000</td>\n      <td>3768.250000</td>\n      <td>5353060000</td>\n      <td>-20.479980</td>\n    </tr>\n    <tr>\n      <th>23372</th>\n      <td>2021-01-19</td>\n      <td>3781.879883</td>\n      <td>3804.530029</td>\n      <td>3780.370117</td>\n      <td>3798.909912</td>\n      <td>3798.909912</td>\n      <td>4982940000</td>\n      <td>17.030029</td>\n    </tr>\n    <tr>\n      <th>23373</th>\n      <td>2021-01-20</td>\n      <td>3816.219971</td>\n      <td>3859.750000</td>\n      <td>3816.219971</td>\n      <td>3851.850098</td>\n      <td>3851.850098</td>\n      <td>4551790000</td>\n      <td>35.630127</td>\n    </tr>\n    <tr>\n      <th>23374</th>\n      <td>2021-01-21</td>\n      <td>3857.459961</td>\n      <td>3861.449951</td>\n      <td>3845.050049</td>\n      <td>3853.070068</td>\n      <td>3853.070068</td>\n      <td>4484460000</td>\n      <td>-4.389893</td>\n    </tr>\n    <tr>\n      <th>23375</th>\n      <td>2021-01-22</td>\n      <td>3844.239990</td>\n      <td>3852.310059</td>\n      <td>3830.409912</td>\n      <td>3841.469971</td>\n      <td>3841.469971</td>\n      <td>5080430000</td>\n      <td>-2.770020</td>\n    </tr>\n  </tbody>\n</table>\n</div>"
     },
     "metadata": {},
     "execution_count": 19
    },
    {
     "output_type": "display_data",
     "data": {
      "text/plain": "<IPython.core.display.Javascript object>",
      "application/javascript": "\n            setTimeout(function() {\n                var nbb_cell_id = 19;\n                var nbb_unformatted_code = \"spx['Diff'] = spx['Adj Close'] - spx['Open']\\nspx.tail()\";\n                var nbb_formatted_code = \"spx[\\\"Diff\\\"] = spx[\\\"Adj Close\\\"] - spx[\\\"Open\\\"]\\nspx.tail()\";\n                var nbb_cells = Jupyter.notebook.get_cells();\n                for (var i = 0; i < nbb_cells.length; ++i) {\n                    if (nbb_cells[i].input_prompt_number == nbb_cell_id) {\n                        if (nbb_cells[i].get_text() == nbb_unformatted_code) {\n                             nbb_cells[i].set_text(nbb_formatted_code);\n                        }\n                        break;\n                    }\n                }\n            }, 500);\n            "
     },
     "metadata": {}
    }
   ],
   "source": [
    "spx['Diff'] = spx['Adj Close'] - spx['Open']\n",
    "spx.tail()"
   ]
  },
  {
   "cell_type": "code",
   "execution_count": 20,
   "metadata": {},
   "outputs": [
    {
     "output_type": "display_data",
     "data": {
      "text/plain": "<IPython.core.display.Javascript object>",
      "application/javascript": "\n            setTimeout(function() {\n                var nbb_cell_id = 20;\n                var nbb_unformatted_code = \"spx['date'] = pd.to_datetime(spx['date'])\";\n                var nbb_formatted_code = \"spx[\\\"date\\\"] = pd.to_datetime(spx[\\\"date\\\"])\";\n                var nbb_cells = Jupyter.notebook.get_cells();\n                for (var i = 0; i < nbb_cells.length; ++i) {\n                    if (nbb_cells[i].input_prompt_number == nbb_cell_id) {\n                        if (nbb_cells[i].get_text() == nbb_unformatted_code) {\n                             nbb_cells[i].set_text(nbb_formatted_code);\n                        }\n                        break;\n                    }\n                }\n            }, 500);\n            "
     },
     "metadata": {}
    }
   ],
   "source": [
    "spx['date'] = pd.to_datetime(spx['date'])"
   ]
  },
  {
   "cell_type": "code",
   "execution_count": 21,
   "metadata": {},
   "outputs": [
    {
     "output_type": "display_data",
     "data": {
      "text/plain": "<IPython.core.display.Javascript object>",
      "application/javascript": "\n            setTimeout(function() {\n                var nbb_cell_id = 21;\n                var nbb_unformatted_code = \"spx.to_csv('./SPX_processed.csv', index=False)\";\n                var nbb_formatted_code = \"spx.to_csv(\\\"./SPX_processed.csv\\\", index=False)\";\n                var nbb_cells = Jupyter.notebook.get_cells();\n                for (var i = 0; i < nbb_cells.length; ++i) {\n                    if (nbb_cells[i].input_prompt_number == nbb_cell_id) {\n                        if (nbb_cells[i].get_text() == nbb_unformatted_code) {\n                             nbb_cells[i].set_text(nbb_formatted_code);\n                        }\n                        break;\n                    }\n                }\n            }, 500);\n            "
     },
     "metadata": {}
    }
   ],
   "source": [
    "spx.to_csv('./SPX_processed.csv', index=False)"
   ]
  },
  {
   "cell_type": "code",
   "execution_count": 22,
   "metadata": {},
   "outputs": [
    {
     "output_type": "display_data",
     "data": {
      "text/plain": "<IPython.core.display.Javascript object>",
      "application/javascript": "\n            setTimeout(function() {\n                var nbb_cell_id = 22;\n                var nbb_unformatted_code = \"spx_n = spx[['date', 'Diff']]\";\n                var nbb_formatted_code = \"spx_n = spx[[\\\"date\\\", \\\"Diff\\\"]]\";\n                var nbb_cells = Jupyter.notebook.get_cells();\n                for (var i = 0; i < nbb_cells.length; ++i) {\n                    if (nbb_cells[i].input_prompt_number == nbb_cell_id) {\n                        if (nbb_cells[i].get_text() == nbb_unformatted_code) {\n                             nbb_cells[i].set_text(nbb_formatted_code);\n                        }\n                        break;\n                    }\n                }\n            }, 500);\n            "
     },
     "metadata": {}
    }
   ],
   "source": [
    "spx_n = spx[['date', 'Diff']]"
   ]
  },
  {
   "source": [
    "## Merging News and Stock Data by Date"
   ],
   "cell_type": "markdown",
   "metadata": {}
  },
  {
   "cell_type": "code",
   "execution_count": 23,
   "metadata": {},
   "outputs": [
    {
     "output_type": "display_data",
     "data": {
      "text/plain": "<IPython.core.display.Javascript object>",
      "application/javascript": "\n            setTimeout(function() {\n                var nbb_cell_id = 23;\n                var nbb_unformatted_code = \"merged_df = pd.merge(news_, spx, how='outer', on='date')\";\n                var nbb_formatted_code = \"merged_df = pd.merge(news_, spx, how=\\\"outer\\\", on=\\\"date\\\")\";\n                var nbb_cells = Jupyter.notebook.get_cells();\n                for (var i = 0; i < nbb_cells.length; ++i) {\n                    if (nbb_cells[i].input_prompt_number == nbb_cell_id) {\n                        if (nbb_cells[i].get_text() == nbb_unformatted_code) {\n                             nbb_cells[i].set_text(nbb_formatted_code);\n                        }\n                        break;\n                    }\n                }\n            }, 500);\n            "
     },
     "metadata": {}
    }
   ],
   "source": [
    "merged_df = pd.merge(news_, spx, how='outer', on='date')"
   ]
  },
  {
   "cell_type": "code",
   "execution_count": 24,
   "metadata": {},
   "outputs": [
    {
     "output_type": "execute_result",
     "data": {
      "text/plain": [
       "date          0.000000\n",
       "headline     85.317895\n",
       "Open          1.574737\n",
       "High          1.574737\n",
       "Low           1.574737\n",
       "Close         1.574737\n",
       "Adj Close     1.574737\n",
       "Volume        1.574737\n",
       "Diff          1.574737\n",
       "dtype: float64"
      ]
     },
     "metadata": {},
     "execution_count": 24
    },
    {
     "output_type": "display_data",
     "data": {
      "text/plain": "<IPython.core.display.Javascript object>",
      "application/javascript": "\n            setTimeout(function() {\n                var nbb_cell_id = 24;\n                var nbb_unformatted_code = \"merged_df.isna().mean()*100\";\n                var nbb_formatted_code = \"merged_df.isna().mean() * 100\";\n                var nbb_cells = Jupyter.notebook.get_cells();\n                for (var i = 0; i < nbb_cells.length; ++i) {\n                    if (nbb_cells[i].input_prompt_number == nbb_cell_id) {\n                        if (nbb_cells[i].get_text() == nbb_unformatted_code) {\n                             nbb_cells[i].set_text(nbb_formatted_code);\n                        }\n                        break;\n                    }\n                }\n            }, 500);\n            "
     },
     "metadata": {}
    }
   ],
   "source": [
    "merged_df.isna().mean()*100"
   ]
  },
  {
   "source": [
    "The missingness in headlines can be explained by the coverage of the news data collected. Earliest date is set at 2008-08-08 and latest at 2021-01-14."
   ],
   "cell_type": "markdown",
   "metadata": {}
  },
  {
   "cell_type": "code",
   "execution_count": 25,
   "metadata": {},
   "outputs": [
    {
     "output_type": "execute_result",
     "data": {
      "text/plain": [
       "        date                                           headline         Open  \\\n",
       "0 2008-08-08   Georgia 'downs two Russian warplanes' as coun...  1266.290039   \n",
       "1 2008-08-11   Why wont America and Nato help us? If they wo...  1294.420044   \n",
       "2 2008-08-12   Remember that adorable 9-year-old who sang at...  1304.790039   \n",
       "3 2008-08-13    U.S. refuses Israel weapons to attack Iran: ...  1288.640015   \n",
       "4 2008-08-14   All the experts admit that we should legalise...  1282.109985   \n",
       "\n",
       "          High          Low        Close    Adj Close        Volume       Diff  \n",
       "0  1297.849976  1262.109985  1296.319946  1296.319946  4.966810e+09  30.029907  \n",
       "1  1313.150024  1291.410034  1305.319946  1305.319946  5.067310e+09  10.899902  \n",
       "2  1304.790039  1285.640015  1289.589966  1289.589966  4.711290e+09 -15.200073  \n",
       "3  1294.030029  1274.859985  1285.829956  1285.829956  4.787600e+09  -2.810059  \n",
       "4  1300.109985  1276.839966  1292.930054  1292.930054  4.064000e+09  10.820068  "
      ],
      "text/html": "<div>\n<style scoped>\n    .dataframe tbody tr th:only-of-type {\n        vertical-align: middle;\n    }\n\n    .dataframe tbody tr th {\n        vertical-align: top;\n    }\n\n    .dataframe thead th {\n        text-align: right;\n    }\n</style>\n<table border=\"1\" class=\"dataframe\">\n  <thead>\n    <tr style=\"text-align: right;\">\n      <th></th>\n      <th>date</th>\n      <th>headline</th>\n      <th>Open</th>\n      <th>High</th>\n      <th>Low</th>\n      <th>Close</th>\n      <th>Adj Close</th>\n      <th>Volume</th>\n      <th>Diff</th>\n    </tr>\n  </thead>\n  <tbody>\n    <tr>\n      <th>0</th>\n      <td>2008-08-08</td>\n      <td>Georgia 'downs two Russian warplanes' as coun...</td>\n      <td>1266.290039</td>\n      <td>1297.849976</td>\n      <td>1262.109985</td>\n      <td>1296.319946</td>\n      <td>1296.319946</td>\n      <td>4.966810e+09</td>\n      <td>30.029907</td>\n    </tr>\n    <tr>\n      <th>1</th>\n      <td>2008-08-11</td>\n      <td>Why wont America and Nato help us? If they wo...</td>\n      <td>1294.420044</td>\n      <td>1313.150024</td>\n      <td>1291.410034</td>\n      <td>1305.319946</td>\n      <td>1305.319946</td>\n      <td>5.067310e+09</td>\n      <td>10.899902</td>\n    </tr>\n    <tr>\n      <th>2</th>\n      <td>2008-08-12</td>\n      <td>Remember that adorable 9-year-old who sang at...</td>\n      <td>1304.790039</td>\n      <td>1304.790039</td>\n      <td>1285.640015</td>\n      <td>1289.589966</td>\n      <td>1289.589966</td>\n      <td>4.711290e+09</td>\n      <td>-15.200073</td>\n    </tr>\n    <tr>\n      <th>3</th>\n      <td>2008-08-13</td>\n      <td>U.S. refuses Israel weapons to attack Iran: ...</td>\n      <td>1288.640015</td>\n      <td>1294.030029</td>\n      <td>1274.859985</td>\n      <td>1285.829956</td>\n      <td>1285.829956</td>\n      <td>4.787600e+09</td>\n      <td>-2.810059</td>\n    </tr>\n    <tr>\n      <th>4</th>\n      <td>2008-08-14</td>\n      <td>All the experts admit that we should legalise...</td>\n      <td>1282.109985</td>\n      <td>1300.109985</td>\n      <td>1276.839966</td>\n      <td>1292.930054</td>\n      <td>1292.930054</td>\n      <td>4.064000e+09</td>\n      <td>10.820068</td>\n    </tr>\n  </tbody>\n</table>\n</div>"
     },
     "metadata": {},
     "execution_count": 25
    },
    {
     "output_type": "display_data",
     "data": {
      "text/plain": "<IPython.core.display.Javascript object>",
      "application/javascript": "\n            setTimeout(function() {\n                var nbb_cell_id = 25;\n                var nbb_unformatted_code = \"merged_df.head()\";\n                var nbb_formatted_code = \"merged_df.head()\";\n                var nbb_cells = Jupyter.notebook.get_cells();\n                for (var i = 0; i < nbb_cells.length; ++i) {\n                    if (nbb_cells[i].input_prompt_number == nbb_cell_id) {\n                        if (nbb_cells[i].get_text() == nbb_unformatted_code) {\n                             nbb_cells[i].set_text(nbb_formatted_code);\n                        }\n                        break;\n                    }\n                }\n            }, 500);\n            "
     },
     "metadata": {}
    }
   ],
   "source": [
    "merged_df.head()"
   ]
  },
  {
   "cell_type": "code",
   "execution_count": 26,
   "metadata": {},
   "outputs": [
    {
     "output_type": "execute_result",
     "data": {
      "text/plain": [
       "            date headline         Open         High          Low        Close  \\\n",
       "23740 2018-05-25      NaN  2723.600098  2727.360107  2714.989990  2721.330078   \n",
       "23741 2018-06-29      NaN  2727.129883  2743.260010  2718.030029  2718.370117   \n",
       "23742 2018-07-20      NaN  2804.550049  2809.699951  2800.010010  2801.830078   \n",
       "23743 2018-11-23      NaN  2633.360107  2647.550049  2631.090088  2632.560059   \n",
       "23744 2019-04-02      NaN  2868.239990  2872.899902  2858.750000  2867.239990   \n",
       "23745 2021-01-15      NaN  3788.729980  3788.729980  3749.620117  3768.250000   \n",
       "23746 2021-01-19      NaN  3781.879883  3804.530029  3780.370117  3798.909912   \n",
       "23747 2021-01-20      NaN  3816.219971  3859.750000  3816.219971  3851.850098   \n",
       "23748 2021-01-21      NaN  3857.459961  3861.449951  3845.050049  3853.070068   \n",
       "23749 2021-01-22      NaN  3844.239990  3852.310059  3830.409912  3841.469971   \n",
       "\n",
       "         Adj Close        Volume       Diff  \n",
       "23740  2721.330078  2.995260e+09  -2.270020  \n",
       "23741  2718.370117  3.565620e+09  -8.759766  \n",
       "23742  2801.830078  3.230210e+09  -2.719971  \n",
       "23743  2632.560059  1.651650e+09  -0.800049  \n",
       "23744  2867.239990  3.246900e+09  -1.000000  \n",
       "23745  3768.250000  5.353060e+09 -20.479980  \n",
       "23746  3798.909912  4.982940e+09  17.030029  \n",
       "23747  3851.850098  4.551790e+09  35.630127  \n",
       "23748  3853.070068  4.484460e+09  -4.389893  \n",
       "23749  3841.469971  5.080430e+09  -2.770020  "
      ],
      "text/html": "<div>\n<style scoped>\n    .dataframe tbody tr th:only-of-type {\n        vertical-align: middle;\n    }\n\n    .dataframe tbody tr th {\n        vertical-align: top;\n    }\n\n    .dataframe thead th {\n        text-align: right;\n    }\n</style>\n<table border=\"1\" class=\"dataframe\">\n  <thead>\n    <tr style=\"text-align: right;\">\n      <th></th>\n      <th>date</th>\n      <th>headline</th>\n      <th>Open</th>\n      <th>High</th>\n      <th>Low</th>\n      <th>Close</th>\n      <th>Adj Close</th>\n      <th>Volume</th>\n      <th>Diff</th>\n    </tr>\n  </thead>\n  <tbody>\n    <tr>\n      <th>23740</th>\n      <td>2018-05-25</td>\n      <td>NaN</td>\n      <td>2723.600098</td>\n      <td>2727.360107</td>\n      <td>2714.989990</td>\n      <td>2721.330078</td>\n      <td>2721.330078</td>\n      <td>2.995260e+09</td>\n      <td>-2.270020</td>\n    </tr>\n    <tr>\n      <th>23741</th>\n      <td>2018-06-29</td>\n      <td>NaN</td>\n      <td>2727.129883</td>\n      <td>2743.260010</td>\n      <td>2718.030029</td>\n      <td>2718.370117</td>\n      <td>2718.370117</td>\n      <td>3.565620e+09</td>\n      <td>-8.759766</td>\n    </tr>\n    <tr>\n      <th>23742</th>\n      <td>2018-07-20</td>\n      <td>NaN</td>\n      <td>2804.550049</td>\n      <td>2809.699951</td>\n      <td>2800.010010</td>\n      <td>2801.830078</td>\n      <td>2801.830078</td>\n      <td>3.230210e+09</td>\n      <td>-2.719971</td>\n    </tr>\n    <tr>\n      <th>23743</th>\n      <td>2018-11-23</td>\n      <td>NaN</td>\n      <td>2633.360107</td>\n      <td>2647.550049</td>\n      <td>2631.090088</td>\n      <td>2632.560059</td>\n      <td>2632.560059</td>\n      <td>1.651650e+09</td>\n      <td>-0.800049</td>\n    </tr>\n    <tr>\n      <th>23744</th>\n      <td>2019-04-02</td>\n      <td>NaN</td>\n      <td>2868.239990</td>\n      <td>2872.899902</td>\n      <td>2858.750000</td>\n      <td>2867.239990</td>\n      <td>2867.239990</td>\n      <td>3.246900e+09</td>\n      <td>-1.000000</td>\n    </tr>\n    <tr>\n      <th>23745</th>\n      <td>2021-01-15</td>\n      <td>NaN</td>\n      <td>3788.729980</td>\n      <td>3788.729980</td>\n      <td>3749.620117</td>\n      <td>3768.250000</td>\n      <td>3768.250000</td>\n      <td>5.353060e+09</td>\n      <td>-20.479980</td>\n    </tr>\n    <tr>\n      <th>23746</th>\n      <td>2021-01-19</td>\n      <td>NaN</td>\n      <td>3781.879883</td>\n      <td>3804.530029</td>\n      <td>3780.370117</td>\n      <td>3798.909912</td>\n      <td>3798.909912</td>\n      <td>4.982940e+09</td>\n      <td>17.030029</td>\n    </tr>\n    <tr>\n      <th>23747</th>\n      <td>2021-01-20</td>\n      <td>NaN</td>\n      <td>3816.219971</td>\n      <td>3859.750000</td>\n      <td>3816.219971</td>\n      <td>3851.850098</td>\n      <td>3851.850098</td>\n      <td>4.551790e+09</td>\n      <td>35.630127</td>\n    </tr>\n    <tr>\n      <th>23748</th>\n      <td>2021-01-21</td>\n      <td>NaN</td>\n      <td>3857.459961</td>\n      <td>3861.449951</td>\n      <td>3845.050049</td>\n      <td>3853.070068</td>\n      <td>3853.070068</td>\n      <td>4.484460e+09</td>\n      <td>-4.389893</td>\n    </tr>\n    <tr>\n      <th>23749</th>\n      <td>2021-01-22</td>\n      <td>NaN</td>\n      <td>3844.239990</td>\n      <td>3852.310059</td>\n      <td>3830.409912</td>\n      <td>3841.469971</td>\n      <td>3841.469971</td>\n      <td>5.080430e+09</td>\n      <td>-2.770020</td>\n    </tr>\n  </tbody>\n</table>\n</div>"
     },
     "metadata": {},
     "execution_count": 26
    },
    {
     "output_type": "display_data",
     "data": {
      "text/plain": "<IPython.core.display.Javascript object>",
      "application/javascript": "\n            setTimeout(function() {\n                var nbb_cell_id = 26;\n                var nbb_unformatted_code = \"merged_df.tail(10)\";\n                var nbb_formatted_code = \"merged_df.tail(10)\";\n                var nbb_cells = Jupyter.notebook.get_cells();\n                for (var i = 0; i < nbb_cells.length; ++i) {\n                    if (nbb_cells[i].input_prompt_number == nbb_cell_id) {\n                        if (nbb_cells[i].get_text() == nbb_unformatted_code) {\n                             nbb_cells[i].set_text(nbb_formatted_code);\n                        }\n                        break;\n                    }\n                }\n            }, 500);\n            "
     },
     "metadata": {}
    }
   ],
   "source": [
    "merged_df.tail(10)"
   ]
  },
  {
   "source": [
    "Since we don't have news data pre-2008-08-08, I will dropping all the rows with no headline data to preserve the possible correlation."
   ],
   "cell_type": "markdown",
   "metadata": {}
  },
  {
   "cell_type": "code",
   "execution_count": 27,
   "metadata": {},
   "outputs": [
    {
     "output_type": "display_data",
     "data": {
      "text/plain": "<IPython.core.display.Javascript object>",
      "application/javascript": "\n            setTimeout(function() {\n                var nbb_cell_id = 27;\n                var nbb_unformatted_code = \"merged_df.dropna(inplace=True)\";\n                var nbb_formatted_code = \"merged_df.dropna(inplace=True)\";\n                var nbb_cells = Jupyter.notebook.get_cells();\n                for (var i = 0; i < nbb_cells.length; ++i) {\n                    if (nbb_cells[i].input_prompt_number == nbb_cell_id) {\n                        if (nbb_cells[i].get_text() == nbb_unformatted_code) {\n                             nbb_cells[i].set_text(nbb_formatted_code);\n                        }\n                        break;\n                    }\n                }\n            }, 500);\n            "
     },
     "metadata": {}
    }
   ],
   "source": [
    "merged_df.dropna(inplace=True)"
   ]
  },
  {
   "cell_type": "code",
   "execution_count": 28,
   "metadata": {},
   "outputs": [
    {
     "output_type": "display_data",
     "data": {
      "text/plain": "<IPython.core.display.Javascript object>",
      "application/javascript": "\n            setTimeout(function() {\n                var nbb_cell_id = 28;\n                var nbb_unformatted_code = \"merged_df.sort_values(by='date', inplace=True)\";\n                var nbb_formatted_code = \"merged_df.sort_values(by=\\\"date\\\", inplace=True)\";\n                var nbb_cells = Jupyter.notebook.get_cells();\n                for (var i = 0; i < nbb_cells.length; ++i) {\n                    if (nbb_cells[i].input_prompt_number == nbb_cell_id) {\n                        if (nbb_cells[i].get_text() == nbb_unformatted_code) {\n                             nbb_cells[i].set_text(nbb_formatted_code);\n                        }\n                        break;\n                    }\n                }\n            }, 500);\n            "
     },
     "metadata": {}
    }
   ],
   "source": [
    "merged_df.sort_values(by='date', inplace=True)"
   ]
  },
  {
   "cell_type": "code",
   "execution_count": 29,
   "metadata": {},
   "outputs": [
    {
     "output_type": "display_data",
     "data": {
      "text/plain": "<IPython.core.display.Javascript object>",
      "application/javascript": "\n            setTimeout(function() {\n                var nbb_cell_id = 29;\n                var nbb_unformatted_code = \"def label_trend(row):\\n    if row['Diff'] < 0.0:\\n        return 0\\n    elif row['Diff'] > 0.0:\\n        return 2\\n    else:\\n        return 1 # if Diff is 0\\n\\nmerged_df['Label'] = merged_df.apply(lambda row: label_trend(row), axis=1)\";\n                var nbb_formatted_code = \"def label_trend(row):\\n    if row[\\\"Diff\\\"] < 0.0:\\n        return 0\\n    elif row[\\\"Diff\\\"] > 0.0:\\n        return 2\\n    else:\\n        return 1  # if Diff is 0\\n\\n\\nmerged_df[\\\"Label\\\"] = merged_df.apply(lambda row: label_trend(row), axis=1)\";\n                var nbb_cells = Jupyter.notebook.get_cells();\n                for (var i = 0; i < nbb_cells.length; ++i) {\n                    if (nbb_cells[i].input_prompt_number == nbb_cell_id) {\n                        if (nbb_cells[i].get_text() == nbb_unformatted_code) {\n                             nbb_cells[i].set_text(nbb_formatted_code);\n                        }\n                        break;\n                    }\n                }\n            }, 500);\n            "
     },
     "metadata": {}
    }
   ],
   "source": [
    "def label_trend(row):\n",
    "    if row['Diff'] < 0.0:\n",
    "        return 0\n",
    "    elif row['Diff'] > 0.0:\n",
    "        return 2\n",
    "    else:\n",
    "        return 1 # if Diff is 0\n",
    "\n",
    "merged_df['Label'] = merged_df.apply(lambda row: label_trend(row), axis=1)"
   ]
  },
  {
   "cell_type": "code",
   "execution_count": 30,
   "metadata": {},
   "outputs": [
    {
     "output_type": "execute_result",
     "data": {
      "text/plain": [
       "        date                                           headline         Open  \\\n",
       "0 2008-08-08   Georgia 'downs two Russian warplanes' as coun...  1266.290039   \n",
       "1 2008-08-11   Why wont America and Nato help us? If they wo...  1294.420044   \n",
       "2 2008-08-12   Remember that adorable 9-year-old who sang at...  1304.790039   \n",
       "3 2008-08-13    U.S. refuses Israel weapons to attack Iran: ...  1288.640015   \n",
       "4 2008-08-14   All the experts admit that we should legalise...  1282.109985   \n",
       "\n",
       "          High          Low        Close    Adj Close        Volume  \\\n",
       "0  1297.849976  1262.109985  1296.319946  1296.319946  4.966810e+09   \n",
       "1  1313.150024  1291.410034  1305.319946  1305.319946  5.067310e+09   \n",
       "2  1304.790039  1285.640015  1289.589966  1289.589966  4.711290e+09   \n",
       "3  1294.030029  1274.859985  1285.829956  1285.829956  4.787600e+09   \n",
       "4  1300.109985  1276.839966  1292.930054  1292.930054  4.064000e+09   \n",
       "\n",
       "        Diff  Label  \n",
       "0  30.029907      2  \n",
       "1  10.899902      2  \n",
       "2 -15.200073      0  \n",
       "3  -2.810059      0  \n",
       "4  10.820068      2  "
      ],
      "text/html": "<div>\n<style scoped>\n    .dataframe tbody tr th:only-of-type {\n        vertical-align: middle;\n    }\n\n    .dataframe tbody tr th {\n        vertical-align: top;\n    }\n\n    .dataframe thead th {\n        text-align: right;\n    }\n</style>\n<table border=\"1\" class=\"dataframe\">\n  <thead>\n    <tr style=\"text-align: right;\">\n      <th></th>\n      <th>date</th>\n      <th>headline</th>\n      <th>Open</th>\n      <th>High</th>\n      <th>Low</th>\n      <th>Close</th>\n      <th>Adj Close</th>\n      <th>Volume</th>\n      <th>Diff</th>\n      <th>Label</th>\n    </tr>\n  </thead>\n  <tbody>\n    <tr>\n      <th>0</th>\n      <td>2008-08-08</td>\n      <td>Georgia 'downs two Russian warplanes' as coun...</td>\n      <td>1266.290039</td>\n      <td>1297.849976</td>\n      <td>1262.109985</td>\n      <td>1296.319946</td>\n      <td>1296.319946</td>\n      <td>4.966810e+09</td>\n      <td>30.029907</td>\n      <td>2</td>\n    </tr>\n    <tr>\n      <th>1</th>\n      <td>2008-08-11</td>\n      <td>Why wont America and Nato help us? If they wo...</td>\n      <td>1294.420044</td>\n      <td>1313.150024</td>\n      <td>1291.410034</td>\n      <td>1305.319946</td>\n      <td>1305.319946</td>\n      <td>5.067310e+09</td>\n      <td>10.899902</td>\n      <td>2</td>\n    </tr>\n    <tr>\n      <th>2</th>\n      <td>2008-08-12</td>\n      <td>Remember that adorable 9-year-old who sang at...</td>\n      <td>1304.790039</td>\n      <td>1304.790039</td>\n      <td>1285.640015</td>\n      <td>1289.589966</td>\n      <td>1289.589966</td>\n      <td>4.711290e+09</td>\n      <td>-15.200073</td>\n      <td>0</td>\n    </tr>\n    <tr>\n      <th>3</th>\n      <td>2008-08-13</td>\n      <td>U.S. refuses Israel weapons to attack Iran: ...</td>\n      <td>1288.640015</td>\n      <td>1294.030029</td>\n      <td>1274.859985</td>\n      <td>1285.829956</td>\n      <td>1285.829956</td>\n      <td>4.787600e+09</td>\n      <td>-2.810059</td>\n      <td>0</td>\n    </tr>\n    <tr>\n      <th>4</th>\n      <td>2008-08-14</td>\n      <td>All the experts admit that we should legalise...</td>\n      <td>1282.109985</td>\n      <td>1300.109985</td>\n      <td>1276.839966</td>\n      <td>1292.930054</td>\n      <td>1292.930054</td>\n      <td>4.064000e+09</td>\n      <td>10.820068</td>\n      <td>2</td>\n    </tr>\n  </tbody>\n</table>\n</div>"
     },
     "metadata": {},
     "execution_count": 30
    },
    {
     "output_type": "display_data",
     "data": {
      "text/plain": "<IPython.core.display.Javascript object>",
      "application/javascript": "\n            setTimeout(function() {\n                var nbb_cell_id = 30;\n                var nbb_unformatted_code = \"merged_df.head()\";\n                var nbb_formatted_code = \"merged_df.head()\";\n                var nbb_cells = Jupyter.notebook.get_cells();\n                for (var i = 0; i < nbb_cells.length; ++i) {\n                    if (nbb_cells[i].input_prompt_number == nbb_cell_id) {\n                        if (nbb_cells[i].get_text() == nbb_unformatted_code) {\n                             nbb_cells[i].set_text(nbb_formatted_code);\n                        }\n                        break;\n                    }\n                }\n            }, 500);\n            "
     },
     "metadata": {}
    }
   ],
   "source": [
    "merged_df.head()"
   ]
  },
  {
   "cell_type": "code",
   "execution_count": 31,
   "metadata": {},
   "outputs": [
    {
     "output_type": "display_data",
     "data": {
      "text/plain": "<IPython.core.display.Javascript object>",
      "application/javascript": "\n            setTimeout(function() {\n                var nbb_cell_id = 31;\n                var nbb_unformatted_code = \"merged_df.to_csv('./news_stock.csv', index=False)\";\n                var nbb_formatted_code = \"merged_df.to_csv(\\\"./news_stock.csv\\\", index=False)\";\n                var nbb_cells = Jupyter.notebook.get_cells();\n                for (var i = 0; i < nbb_cells.length; ++i) {\n                    if (nbb_cells[i].input_prompt_number == nbb_cell_id) {\n                        if (nbb_cells[i].get_text() == nbb_unformatted_code) {\n                             nbb_cells[i].set_text(nbb_formatted_code);\n                        }\n                        break;\n                    }\n                }\n            }, 500);\n            "
     },
     "metadata": {}
    }
   ],
   "source": [
    "merged_df.to_csv('./news_stock.csv', index=False)"
   ]
  }
 ]
}