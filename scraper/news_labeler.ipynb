{
 "metadata": {
  "language_info": {
   "codemirror_mode": {
    "name": "ipython",
    "version": 3
   },
   "file_extension": ".py",
   "mimetype": "text/x-python",
   "name": "python",
   "nbconvert_exporter": "python",
   "pygments_lexer": "ipython3",
   "version": "3.8.5-final"
  },
  "orig_nbformat": 2,
  "kernelspec": {
   "name": "python3",
   "display_name": "Python 3",
   "language": "python"
  }
 },
 "nbformat": 4,
 "nbformat_minor": 2,
 "cells": [
  {
   "cell_type": "code",
   "execution_count": 2,
   "metadata": {},
   "outputs": [],
   "source": [
    "import pandas as pd\n",
    "import numpy as np"
   ]
  },
  {
   "source": [
    "### To have effective external validation for sentiment analysis for news headlines, I will be looking at the historic data for SPX and assign the following for the segmented news data per day:\n",
    "\n",
    "* 1 - *Value rose or stayed the same*\n",
    "* 0 - *Value decreased*"
   ],
   "cell_type": "markdown",
   "metadata": {}
  },
  {
   "cell_type": "code",
   "execution_count": 3,
   "metadata": {},
   "outputs": [
    {
     "output_type": "execute_result",
     "data": {
      "text/plain": [
       "                                            headline  \\\n",
       "0  Gold Price Forecast: Real Yields Weighing on P...   \n",
       "1  Central Bank Watch: Fed Speeches, Interest Rat...   \n",
       "2   Top 10 Candlestick Patterns To Trade the Markets   \n",
       "3                    How to Read a Candlestick Chart   \n",
       "4  EUR/GBP Price Analysis: Will Recent Pound Mome...   \n",
       "\n",
       "                        date  \n",
       "0  2021-01-14 17:00:00-05:00  \n",
       "1  2021-01-14 16:45:00-05:00  \n",
       "2  2021-01-14 14:30:00-05:00  \n",
       "3  2021-01-14 12:30:00-05:00  \n",
       "4  2021-01-14 12:03:00-05:00  "
      ],
      "text/html": "<div>\n<style scoped>\n    .dataframe tbody tr th:only-of-type {\n        vertical-align: middle;\n    }\n\n    .dataframe tbody tr th {\n        vertical-align: top;\n    }\n\n    .dataframe thead th {\n        text-align: right;\n    }\n</style>\n<table border=\"1\" class=\"dataframe\">\n  <thead>\n    <tr style=\"text-align: right;\">\n      <th></th>\n      <th>headline</th>\n      <th>date</th>\n    </tr>\n  </thead>\n  <tbody>\n    <tr>\n      <th>0</th>\n      <td>Gold Price Forecast: Real Yields Weighing on P...</td>\n      <td>2021-01-14 17:00:00-05:00</td>\n    </tr>\n    <tr>\n      <th>1</th>\n      <td>Central Bank Watch: Fed Speeches, Interest Rat...</td>\n      <td>2021-01-14 16:45:00-05:00</td>\n    </tr>\n    <tr>\n      <th>2</th>\n      <td>Top 10 Candlestick Patterns To Trade the Markets</td>\n      <td>2021-01-14 14:30:00-05:00</td>\n    </tr>\n    <tr>\n      <th>3</th>\n      <td>How to Read a Candlestick Chart</td>\n      <td>2021-01-14 12:30:00-05:00</td>\n    </tr>\n    <tr>\n      <th>4</th>\n      <td>EUR/GBP Price Analysis: Will Recent Pound Mome...</td>\n      <td>2021-01-14 12:03:00-05:00</td>\n    </tr>\n  </tbody>\n</table>\n</div>"
     },
     "metadata": {},
     "execution_count": 3
    }
   ],
   "source": [
    "news = pd.read_csv('./data/csvs/news_250.csv')\n",
    "news.head()"
   ]
  },
  {
   "cell_type": "code",
   "execution_count": 4,
   "metadata": {},
   "outputs": [
    {
     "output_type": "stream",
     "name": "stdout",
     "text": [
      "<class 'pandas.core.frame.DataFrame'>\nRangeIndex: 14982 entries, 0 to 14981\nData columns (total 2 columns):\n #   Column    Non-Null Count  Dtype \n---  ------    --------------  ----- \n 0   headline  14982 non-null  object\n 1   date      14982 non-null  object\ndtypes: object(2)\nmemory usage: 234.2+ KB\n"
     ]
    }
   ],
   "source": [
    "news.info()"
   ]
  },
  {
   "cell_type": "code",
   "execution_count": 5,
   "metadata": {},
   "outputs": [],
   "source": [
    "# converting 'date' to datetime\n",
    "news['date'] = pd.to_datetime(news['date'])"
   ]
  },
  {
   "cell_type": "code",
   "execution_count": 6,
   "metadata": {},
   "outputs": [
    {
     "output_type": "stream",
     "name": "stdout",
     "text": [
      "<class 'pandas.core.frame.DataFrame'>\nRangeIndex: 14982 entries, 0 to 14981\nData columns (total 2 columns):\n #   Column    Non-Null Count  Dtype                                 \n---  ------    --------------  -----                                 \n 0   headline  14982 non-null  object                                \n 1   date      14982 non-null  datetime64[ns, pytz.FixedOffset(-300)]\ndtypes: datetime64[ns, pytz.FixedOffset(-300)](1), object(1)\nmemory usage: 234.2+ KB\n"
     ]
    }
   ],
   "source": [
    "news.info()"
   ]
  },
  {
   "cell_type": "code",
   "execution_count": 10,
   "metadata": {},
   "outputs": [],
   "source": [
    "# now that the 'date' is set to the correct format with time zone, it's time to melt the data by date and put all news in a day in a single row\n",
    "news['date'] = news.date.dt.date"
   ]
  },
  {
   "cell_type": "code",
   "execution_count": 11,
   "metadata": {},
   "outputs": [
    {
     "output_type": "execute_result",
     "data": {
      "text/plain": [
       "                                            headline        date\n",
       "0  Gold Price Forecast: Real Yields Weighing on P...  2021-01-14\n",
       "1  Central Bank Watch: Fed Speeches, Interest Rat...  2021-01-14\n",
       "2   Top 10 Candlestick Patterns To Trade the Markets  2021-01-14\n",
       "3                    How to Read a Candlestick Chart  2021-01-14\n",
       "4  EUR/GBP Price Analysis: Will Recent Pound Mome...  2021-01-14"
      ],
      "text/html": "<div>\n<style scoped>\n    .dataframe tbody tr th:only-of-type {\n        vertical-align: middle;\n    }\n\n    .dataframe tbody tr th {\n        vertical-align: top;\n    }\n\n    .dataframe thead th {\n        text-align: right;\n    }\n</style>\n<table border=\"1\" class=\"dataframe\">\n  <thead>\n    <tr style=\"text-align: right;\">\n      <th></th>\n      <th>headline</th>\n      <th>date</th>\n    </tr>\n  </thead>\n  <tbody>\n    <tr>\n      <th>0</th>\n      <td>Gold Price Forecast: Real Yields Weighing on P...</td>\n      <td>2021-01-14</td>\n    </tr>\n    <tr>\n      <th>1</th>\n      <td>Central Bank Watch: Fed Speeches, Interest Rat...</td>\n      <td>2021-01-14</td>\n    </tr>\n    <tr>\n      <th>2</th>\n      <td>Top 10 Candlestick Patterns To Trade the Markets</td>\n      <td>2021-01-14</td>\n    </tr>\n    <tr>\n      <th>3</th>\n      <td>How to Read a Candlestick Chart</td>\n      <td>2021-01-14</td>\n    </tr>\n    <tr>\n      <th>4</th>\n      <td>EUR/GBP Price Analysis: Will Recent Pound Mome...</td>\n      <td>2021-01-14</td>\n    </tr>\n  </tbody>\n</table>\n</div>"
     },
     "metadata": {},
     "execution_count": 11
    }
   ],
   "source": [
    "news.head()"
   ]
  },
  {
   "cell_type": "code",
   "execution_count": 15,
   "metadata": {},
   "outputs": [],
   "source": [
    "grouped_news = news.groupby(by='date').agg({'headline' : 'sum'}).reset_index()"
   ]
  },
  {
   "cell_type": "code",
   "execution_count": 16,
   "metadata": {},
   "outputs": [
    {
     "output_type": "execute_result",
     "data": {
      "text/plain": [
       "         date                                           headline\n",
       "0  2016-09-02  Cramer Remix: How to know when the market's mo...\n",
       "1  2016-09-06  Cramer Remix: Time to stash an elevated amount...\n",
       "2  2016-09-07  Cramer: Too much headline risk for me to like ...\n",
       "3  2016-09-08  Cramer Remix: The black hole that investors ar...\n",
       "4  2016-09-09  Cramer: A stock with $1 downside and a $3 upsi..."
      ],
      "text/html": "<div>\n<style scoped>\n    .dataframe tbody tr th:only-of-type {\n        vertical-align: middle;\n    }\n\n    .dataframe tbody tr th {\n        vertical-align: top;\n    }\n\n    .dataframe thead th {\n        text-align: right;\n    }\n</style>\n<table border=\"1\" class=\"dataframe\">\n  <thead>\n    <tr style=\"text-align: right;\">\n      <th></th>\n      <th>date</th>\n      <th>headline</th>\n    </tr>\n  </thead>\n  <tbody>\n    <tr>\n      <th>0</th>\n      <td>2016-09-02</td>\n      <td>Cramer Remix: How to know when the market's mo...</td>\n    </tr>\n    <tr>\n      <th>1</th>\n      <td>2016-09-06</td>\n      <td>Cramer Remix: Time to stash an elevated amount...</td>\n    </tr>\n    <tr>\n      <th>2</th>\n      <td>2016-09-07</td>\n      <td>Cramer: Too much headline risk for me to like ...</td>\n    </tr>\n    <tr>\n      <th>3</th>\n      <td>2016-09-08</td>\n      <td>Cramer Remix: The black hole that investors ar...</td>\n    </tr>\n    <tr>\n      <th>4</th>\n      <td>2016-09-09</td>\n      <td>Cramer: A stock with $1 downside and a $3 upsi...</td>\n    </tr>\n  </tbody>\n</table>\n</div>"
     },
     "metadata": {},
     "execution_count": 16
    }
   ],
   "source": [
    "grouped_news.head()"
   ]
  },
  {
   "cell_type": "code",
   "execution_count": 3,
   "metadata": {},
   "outputs": [
    {
     "output_type": "execute_result",
     "data": {
      "text/plain": [
       "            Date  Label                                               Top1  \\\n",
       "1981  2016-06-27      0  Barclays and RBS shares suspended from trading...   \n",
       "1982  2016-06-28      1  2,500 Scientists To Australia: If You Want To ...   \n",
       "1983  2016-06-29      1                   Explosion At Airport In Istanbul   \n",
       "1984  2016-06-30      1  Jamaica proposes marijuana dispensers for tour...   \n",
       "1985  2016-07-01      1  A 117-year-old woman in Mexico City finally re...   \n",
       "\n",
       "                                                   Top2  \\\n",
       "1981  Pope says Church should ask forgiveness from g...   \n",
       "1982  The personal details of 112,000 French police ...   \n",
       "1983  Yemeni former president: Terrorism is the offs...   \n",
       "1984  Stephen Hawking says pollution and 'stupidity'...   \n",
       "1985   IMF chief backs Athens as permanent Olympic host   \n",
       "\n",
       "                                                   Top3  \\\n",
       "1981  Poland 'shocked' by xenophobic abuse of Poles ...   \n",
       "1982  S&amp;P cuts United Kingdom sovereign credit r...   \n",
       "1983  UK must accept freedom of movement to access E...   \n",
       "1984  Boris Johnson says he will not run for Tory pa...   \n",
       "1985  The president of France says if Brexit won, so...   \n",
       "\n",
       "                                                   Top4  \\\n",
       "1981  There will be no second referendum, cabinet ag...   \n",
       "1982                Huge helium deposit found in Africa   \n",
       "1983  Devastated: scientists too late to captive bre...   \n",
       "1984  Six gay men in Ivory Coast were abused and for...   \n",
       "1985  British Man Who Must Give Police 24 Hours' Not...   \n",
       "\n",
       "                                                   Top5  \\\n",
       "1981      Scotland welcome to join EU, Merkel ally says   \n",
       "1982  CEO of the South African state broadcaster qui...   \n",
       "1983  British Labor Party leader Jeremy Corbyn loses...   \n",
       "1984  Switzerland denies citizenship to Muslim immig...   \n",
       "1985  100+ Nobel laureates urge Greenpeace to stop o...   \n",
       "\n",
       "                                                   Top6  \\\n",
       "1981  Sterling dips below Friday's 31-year low amid ...   \n",
       "1982  Brexit cost investors $2 trillion, the worst o...   \n",
       "1983  A Muslim Shop in the UK Was Just Firebombed Wh...   \n",
       "1984  Palestinian terrorist stabs israeli teen girl ...   \n",
       "1985  Brazil: Huge spike in number of police killing...   \n",
       "\n",
       "                                                   Top7  \\\n",
       "1981  No negative news about South African President...   \n",
       "1982  Hong Kong democracy activists call for return ...   \n",
       "1983  Mexican Authorities Sexually Torture Women in ...   \n",
       "1984  Puerto Rico will default on $1 billion of debt...   \n",
       "1985  Austria's highest court annuls presidential el...   \n",
       "\n",
       "                                                   Top8  ...  \\\n",
       "1981  Surge in Hate Crimes in the U.K. Following U.K...  ...   \n",
       "1982  Brexit: Iceland president says UK can join 'tr...  ...   \n",
       "1983            UK shares and pound continue to recover  ...   \n",
       "1984  Republic of Ireland fans to be awarded medal f...  ...   \n",
       "1985  Facebook wins privacy case, can track any Belg...  ...   \n",
       "\n",
       "                                                  Top16  \\\n",
       "1981  German lawyers to probe Erdogan over alleged w...   \n",
       "1982  US, Canada and Mexico pledge 50% of power from...   \n",
       "1983  Escape Tunnel, Dug by Hand, Is Found at Holoca...   \n",
       "1984  Googles free wifi at Indian railway stations i...   \n",
       "1985  The United States has placed Myanmar, Uzbekist...   \n",
       "\n",
       "                                                  Top17  \\\n",
       "1981  Boris Johnson says the UK will continue to \"in...   \n",
       "1982  There is increasing evidence that Australia is...   \n",
       "1983  The land under Beijing is sinking by as much a...   \n",
       "1984  Mounting evidence suggests 'hobbits' were wipe...   \n",
       "1985  S&amp;P revises European Union credit rating t...   \n",
       "\n",
       "                                                  Top18  \\\n",
       "1981  Richard Branson is calling on the UK governmen...   \n",
       "1982  Richard Branson, the founder of Virgin Group, ...   \n",
       "1983  Car bomb and Anti-Islamic attack on Mosque in ...   \n",
       "1984  The men who carried out Tuesday's terror attac...   \n",
       "1985  India gets $1 billion loan from World Bank for...   \n",
       "\n",
       "                                                  Top19  \\\n",
       "1981             Turkey 'sorry for downing Russian jet'   \n",
       "1982  37,000-yr-old skull from Borneo reveals surpri...   \n",
       "1983  Emaciated lions in Taiz Zoo are trapped in blo...   \n",
       "1984  Calls to suspend Saudi Arabia from UN Human Ri...   \n",
       "1985  U.S. sailors detained by Iran spoke too much u...   \n",
       "\n",
       "                                                  Top20  \\\n",
       "1981  Edward Snowden lawyer vows new push for pardon...   \n",
       "1982  Palestinians stone Western Wall worshipers; po...   \n",
       "1983  Rupert Murdoch describes Brexit as 'wonderful'...   \n",
       "1984  More Than 100 Nobel Laureates Call Out Greenpe...   \n",
       "1985  Mass fish kill in Vietnam solved as Taiwan ste...   \n",
       "\n",
       "                                                  Top21  \\\n",
       "1981  Brexit opinion poll reveals majority don't wan...   \n",
       "1982  Jean-Claude Juncker asks Farage: Why are you h...   \n",
       "1983       More than 40 killed in Yemen suicide attacks   \n",
       "1984  British pedophile sentenced to 85 years in US ...   \n",
       "1985  Philippines president Rodrigo Duterte urges pe...   \n",
       "\n",
       "                                                  Top22  \\\n",
       "1981  Conservative MP Leave Campaigner: \"The leave c...   \n",
       "1982  \"Romanians for Remainians\" offering a new home...   \n",
       "1983  Google Found Disastrous Symantec and Norton Vu...   \n",
       "1984  US permitted 1,200 offshore fracks in Gulf of ...   \n",
       "1985  Spain arrests three Pakistanis accused of prom...   \n",
       "\n",
       "                                                  Top23  \\\n",
       "1981  Economists predict UK recession, further weake...   \n",
       "1982  Brexit: Gibraltar in talks with Scotland to st...   \n",
       "1983  Extremist violence on the rise in Germany: Dom...   \n",
       "1984  We will be swimming in ridicule - French beach...   \n",
       "1985  Venezuela, where anger over food shortages is ...   \n",
       "\n",
       "                                                  Top24  \\\n",
       "1981  New EU 'superstate plan by France, Germany: Cr...   \n",
       "1982                   8 Suicide Bombers Strike Lebanon   \n",
       "1983  BBC News: Labour MPs pass Corbyn no-confidence...   \n",
       "1984  UEFA says no minutes of silence for Istanbul v...   \n",
       "1985  A Hindu temple worker has been killed by three...   \n",
       "\n",
       "                                                  Top25  \n",
       "1981  Pakistani clerics declare transgender marriage...  \n",
       "1982  Mexico's security forces routinely use 'sexual...  \n",
       "1983  Tiny New Zealand town with 'too many jobs' lau...  \n",
       "1984  Law Enforcement Sources: Gun Used in Paris Ter...  \n",
       "1985  Ozone layer hole seems to be healing - US &amp...  \n",
       "\n",
       "[5 rows x 27 columns]"
      ],
      "text/html": "<div>\n<style scoped>\n    .dataframe tbody tr th:only-of-type {\n        vertical-align: middle;\n    }\n\n    .dataframe tbody tr th {\n        vertical-align: top;\n    }\n\n    .dataframe thead th {\n        text-align: right;\n    }\n</style>\n<table border=\"1\" class=\"dataframe\">\n  <thead>\n    <tr style=\"text-align: right;\">\n      <th></th>\n      <th>Date</th>\n      <th>Label</th>\n      <th>Top1</th>\n      <th>Top2</th>\n      <th>Top3</th>\n      <th>Top4</th>\n      <th>Top5</th>\n      <th>Top6</th>\n      <th>Top7</th>\n      <th>Top8</th>\n      <th>...</th>\n      <th>Top16</th>\n      <th>Top17</th>\n      <th>Top18</th>\n      <th>Top19</th>\n      <th>Top20</th>\n      <th>Top21</th>\n      <th>Top22</th>\n      <th>Top23</th>\n      <th>Top24</th>\n      <th>Top25</th>\n    </tr>\n  </thead>\n  <tbody>\n    <tr>\n      <th>1981</th>\n      <td>2016-06-27</td>\n      <td>0</td>\n      <td>Barclays and RBS shares suspended from trading...</td>\n      <td>Pope says Church should ask forgiveness from g...</td>\n      <td>Poland 'shocked' by xenophobic abuse of Poles ...</td>\n      <td>There will be no second referendum, cabinet ag...</td>\n      <td>Scotland welcome to join EU, Merkel ally says</td>\n      <td>Sterling dips below Friday's 31-year low amid ...</td>\n      <td>No negative news about South African President...</td>\n      <td>Surge in Hate Crimes in the U.K. Following U.K...</td>\n      <td>...</td>\n      <td>German lawyers to probe Erdogan over alleged w...</td>\n      <td>Boris Johnson says the UK will continue to \"in...</td>\n      <td>Richard Branson is calling on the UK governmen...</td>\n      <td>Turkey 'sorry for downing Russian jet'</td>\n      <td>Edward Snowden lawyer vows new push for pardon...</td>\n      <td>Brexit opinion poll reveals majority don't wan...</td>\n      <td>Conservative MP Leave Campaigner: \"The leave c...</td>\n      <td>Economists predict UK recession, further weake...</td>\n      <td>New EU 'superstate plan by France, Germany: Cr...</td>\n      <td>Pakistani clerics declare transgender marriage...</td>\n    </tr>\n    <tr>\n      <th>1982</th>\n      <td>2016-06-28</td>\n      <td>1</td>\n      <td>2,500 Scientists To Australia: If You Want To ...</td>\n      <td>The personal details of 112,000 French police ...</td>\n      <td>S&amp;amp;P cuts United Kingdom sovereign credit r...</td>\n      <td>Huge helium deposit found in Africa</td>\n      <td>CEO of the South African state broadcaster qui...</td>\n      <td>Brexit cost investors $2 trillion, the worst o...</td>\n      <td>Hong Kong democracy activists call for return ...</td>\n      <td>Brexit: Iceland president says UK can join 'tr...</td>\n      <td>...</td>\n      <td>US, Canada and Mexico pledge 50% of power from...</td>\n      <td>There is increasing evidence that Australia is...</td>\n      <td>Richard Branson, the founder of Virgin Group, ...</td>\n      <td>37,000-yr-old skull from Borneo reveals surpri...</td>\n      <td>Palestinians stone Western Wall worshipers; po...</td>\n      <td>Jean-Claude Juncker asks Farage: Why are you h...</td>\n      <td>\"Romanians for Remainians\" offering a new home...</td>\n      <td>Brexit: Gibraltar in talks with Scotland to st...</td>\n      <td>8 Suicide Bombers Strike Lebanon</td>\n      <td>Mexico's security forces routinely use 'sexual...</td>\n    </tr>\n    <tr>\n      <th>1983</th>\n      <td>2016-06-29</td>\n      <td>1</td>\n      <td>Explosion At Airport In Istanbul</td>\n      <td>Yemeni former president: Terrorism is the offs...</td>\n      <td>UK must accept freedom of movement to access E...</td>\n      <td>Devastated: scientists too late to captive bre...</td>\n      <td>British Labor Party leader Jeremy Corbyn loses...</td>\n      <td>A Muslim Shop in the UK Was Just Firebombed Wh...</td>\n      <td>Mexican Authorities Sexually Torture Women in ...</td>\n      <td>UK shares and pound continue to recover</td>\n      <td>...</td>\n      <td>Escape Tunnel, Dug by Hand, Is Found at Holoca...</td>\n      <td>The land under Beijing is sinking by as much a...</td>\n      <td>Car bomb and Anti-Islamic attack on Mosque in ...</td>\n      <td>Emaciated lions in Taiz Zoo are trapped in blo...</td>\n      <td>Rupert Murdoch describes Brexit as 'wonderful'...</td>\n      <td>More than 40 killed in Yemen suicide attacks</td>\n      <td>Google Found Disastrous Symantec and Norton Vu...</td>\n      <td>Extremist violence on the rise in Germany: Dom...</td>\n      <td>BBC News: Labour MPs pass Corbyn no-confidence...</td>\n      <td>Tiny New Zealand town with 'too many jobs' lau...</td>\n    </tr>\n    <tr>\n      <th>1984</th>\n      <td>2016-06-30</td>\n      <td>1</td>\n      <td>Jamaica proposes marijuana dispensers for tour...</td>\n      <td>Stephen Hawking says pollution and 'stupidity'...</td>\n      <td>Boris Johnson says he will not run for Tory pa...</td>\n      <td>Six gay men in Ivory Coast were abused and for...</td>\n      <td>Switzerland denies citizenship to Muslim immig...</td>\n      <td>Palestinian terrorist stabs israeli teen girl ...</td>\n      <td>Puerto Rico will default on $1 billion of debt...</td>\n      <td>Republic of Ireland fans to be awarded medal f...</td>\n      <td>...</td>\n      <td>Googles free wifi at Indian railway stations i...</td>\n      <td>Mounting evidence suggests 'hobbits' were wipe...</td>\n      <td>The men who carried out Tuesday's terror attac...</td>\n      <td>Calls to suspend Saudi Arabia from UN Human Ri...</td>\n      <td>More Than 100 Nobel Laureates Call Out Greenpe...</td>\n      <td>British pedophile sentenced to 85 years in US ...</td>\n      <td>US permitted 1,200 offshore fracks in Gulf of ...</td>\n      <td>We will be swimming in ridicule - French beach...</td>\n      <td>UEFA says no minutes of silence for Istanbul v...</td>\n      <td>Law Enforcement Sources: Gun Used in Paris Ter...</td>\n    </tr>\n    <tr>\n      <th>1985</th>\n      <td>2016-07-01</td>\n      <td>1</td>\n      <td>A 117-year-old woman in Mexico City finally re...</td>\n      <td>IMF chief backs Athens as permanent Olympic host</td>\n      <td>The president of France says if Brexit won, so...</td>\n      <td>British Man Who Must Give Police 24 Hours' Not...</td>\n      <td>100+ Nobel laureates urge Greenpeace to stop o...</td>\n      <td>Brazil: Huge spike in number of police killing...</td>\n      <td>Austria's highest court annuls presidential el...</td>\n      <td>Facebook wins privacy case, can track any Belg...</td>\n      <td>...</td>\n      <td>The United States has placed Myanmar, Uzbekist...</td>\n      <td>S&amp;amp;P revises European Union credit rating t...</td>\n      <td>India gets $1 billion loan from World Bank for...</td>\n      <td>U.S. sailors detained by Iran spoke too much u...</td>\n      <td>Mass fish kill in Vietnam solved as Taiwan ste...</td>\n      <td>Philippines president Rodrigo Duterte urges pe...</td>\n      <td>Spain arrests three Pakistanis accused of prom...</td>\n      <td>Venezuela, where anger over food shortages is ...</td>\n      <td>A Hindu temple worker has been killed by three...</td>\n      <td>Ozone layer hole seems to be healing - US &amp;amp...</td>\n    </tr>\n  </tbody>\n</table>\n<p>5 rows × 27 columns</p>\n</div>"
     },
     "metadata": {},
     "execution_count": 3
    }
   ],
   "source": [
    "combined_news = pd.read_csv('./data/csvs/Combined_News_DJIA.csv')\n",
    "combined_news.tail()"
   ]
  },
  {
   "source": [
    "Most recent set of headlines from the combined news data is from 2016-07-01"
   ],
   "cell_type": "markdown",
   "metadata": {}
  }
 ]
}