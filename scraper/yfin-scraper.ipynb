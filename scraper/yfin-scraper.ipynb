{
 "metadata": {
  "language_info": {
   "codemirror_mode": {
    "name": "ipython",
    "version": 3
   },
   "file_extension": ".py",
   "mimetype": "text/x-python",
   "name": "python",
   "nbconvert_exporter": "python",
   "pygments_lexer": "ipython3",
   "version": "3.8.5-final"
  },
  "orig_nbformat": 2,
  "kernelspec": {
   "name": "python3",
   "display_name": "Python 3.8.5 64-bit ('deeplearning': conda)",
   "metadata": {
    "interpreter": {
     "hash": "5c64c80a847a2bc1167ae9f3d93f268f3978450d0b767fc4cbce34d6ba3b096a"
    }
   }
  }
 },
 "nbformat": 4,
 "nbformat_minor": 2,
 "cells": [
  {
   "cell_type": "code",
   "execution_count": 1,
   "metadata": {},
   "outputs": [],
   "source": [
    "import yfinance as yf\n",
    "import datetime"
   ]
  },
  {
   "cell_type": "code",
   "execution_count": 30,
   "metadata": {},
   "outputs": [
    {
     "output_type": "stream",
     "name": "stdout",
     "text": [
      "[*********************100%***********************]  1 of 1 completed\n"
     ]
    },
    {
     "output_type": "execute_result",
     "data": {
      "text/plain": [
       "                   Open         High          Low        Close    Adj Close  \\\n",
       "Date                                                                          \n",
       "2020-12-01  3645.870117  3678.449951  3645.870117  3662.449951  3662.449951   \n",
       "2020-12-02  3653.780029  3670.959961  3644.840088  3669.010010  3669.010010   \n",
       "2020-12-03  3668.280029  3682.729980  3657.169922  3666.719971  3666.719971   \n",
       "2020-12-04  3670.939941  3699.199951  3670.939941  3699.120117  3699.120117   \n",
       "2020-12-07  3694.729980  3697.409912  3678.879883  3691.959961  3691.959961   \n",
       "2020-12-08  3683.050049  3708.449951  3678.830078  3702.250000  3702.250000   \n",
       "2020-12-09  3705.979980  3712.389893  3660.540039  3672.820068  3672.820068   \n",
       "2020-12-10  3659.129883  3678.489990  3645.179932  3668.100098  3668.100098   \n",
       "2020-12-11  3656.080078  3665.909912  3633.399902  3663.459961  3663.459961   \n",
       "2020-12-14  3675.270020  3697.610107  3645.840088  3647.489990  3647.489990   \n",
       "2020-12-15  3666.409912  3695.290039  3659.620117  3694.620117  3694.620117   \n",
       "2020-12-16  3696.250000  3711.270020  3688.570068  3701.169922  3701.169922   \n",
       "2020-12-17  3713.649902  3725.120117  3710.870117  3722.479980  3722.479980   \n",
       "2020-12-18  3722.389893  3726.699951  3685.840088  3709.409912  3709.409912   \n",
       "2020-12-21  3684.280029  3702.899902  3636.479980  3694.919922  3694.919922   \n",
       "2020-12-22  3698.080078  3698.260010  3676.159912  3687.260010  3687.260010   \n",
       "2020-12-23  3693.419922  3711.239990  3689.280029  3690.010010  3690.010010   \n",
       "2020-12-24  3694.030029  3703.820068  3689.320068  3703.060059  3703.060059   \n",
       "2020-12-28  3723.030029  3740.510010  3723.030029  3735.360107  3735.360107   \n",
       "2020-12-29  3750.010010  3756.120117  3723.310059  3727.040039  3727.040039   \n",
       "2020-12-30  3736.189941  3744.629883  3730.209961  3732.040039  3732.040039   \n",
       "2020-12-31  3733.270020  3760.199951  3726.879883  3756.070068  3756.070068   \n",
       "\n",
       "                Volume  \n",
       "Date                    \n",
       "2020-12-01  5403660000  \n",
       "2020-12-02  5029620000  \n",
       "2020-12-03  5091760000  \n",
       "2020-12-04  5086370000  \n",
       "2020-12-07  4788560000  \n",
       "2020-12-08  4549670000  \n",
       "2020-12-09  5209940000  \n",
       "2020-12-10  4618240000  \n",
       "2020-12-11  4367150000  \n",
       "2020-12-14  4594920000  \n",
       "2020-12-15  4360280000  \n",
       "2020-12-16  4056950000  \n",
       "2020-12-17  4184930000  \n",
       "2020-12-18  7068340000  \n",
       "2020-12-21  4732160000  \n",
       "2020-12-22  4023940000  \n",
       "2020-12-23  3772630000  \n",
       "2020-12-24  1885090000  \n",
       "2020-12-28  3527460000  \n",
       "2020-12-29  3387030000  \n",
       "2020-12-30  3145200000  \n",
       "2020-12-31  3172510000  "
      ],
      "text/html": "<div>\n<style scoped>\n    .dataframe tbody tr th:only-of-type {\n        vertical-align: middle;\n    }\n\n    .dataframe tbody tr th {\n        vertical-align: top;\n    }\n\n    .dataframe thead th {\n        text-align: right;\n    }\n</style>\n<table border=\"1\" class=\"dataframe\">\n  <thead>\n    <tr style=\"text-align: right;\">\n      <th></th>\n      <th>Open</th>\n      <th>High</th>\n      <th>Low</th>\n      <th>Close</th>\n      <th>Adj Close</th>\n      <th>Volume</th>\n    </tr>\n    <tr>\n      <th>Date</th>\n      <th></th>\n      <th></th>\n      <th></th>\n      <th></th>\n      <th></th>\n      <th></th>\n    </tr>\n  </thead>\n  <tbody>\n    <tr>\n      <th>2020-12-01</th>\n      <td>3645.870117</td>\n      <td>3678.449951</td>\n      <td>3645.870117</td>\n      <td>3662.449951</td>\n      <td>3662.449951</td>\n      <td>5403660000</td>\n    </tr>\n    <tr>\n      <th>2020-12-02</th>\n      <td>3653.780029</td>\n      <td>3670.959961</td>\n      <td>3644.840088</td>\n      <td>3669.010010</td>\n      <td>3669.010010</td>\n      <td>5029620000</td>\n    </tr>\n    <tr>\n      <th>2020-12-03</th>\n      <td>3668.280029</td>\n      <td>3682.729980</td>\n      <td>3657.169922</td>\n      <td>3666.719971</td>\n      <td>3666.719971</td>\n      <td>5091760000</td>\n    </tr>\n    <tr>\n      <th>2020-12-04</th>\n      <td>3670.939941</td>\n      <td>3699.199951</td>\n      <td>3670.939941</td>\n      <td>3699.120117</td>\n      <td>3699.120117</td>\n      <td>5086370000</td>\n    </tr>\n    <tr>\n      <th>2020-12-07</th>\n      <td>3694.729980</td>\n      <td>3697.409912</td>\n      <td>3678.879883</td>\n      <td>3691.959961</td>\n      <td>3691.959961</td>\n      <td>4788560000</td>\n    </tr>\n    <tr>\n      <th>2020-12-08</th>\n      <td>3683.050049</td>\n      <td>3708.449951</td>\n      <td>3678.830078</td>\n      <td>3702.250000</td>\n      <td>3702.250000</td>\n      <td>4549670000</td>\n    </tr>\n    <tr>\n      <th>2020-12-09</th>\n      <td>3705.979980</td>\n      <td>3712.389893</td>\n      <td>3660.540039</td>\n      <td>3672.820068</td>\n      <td>3672.820068</td>\n      <td>5209940000</td>\n    </tr>\n    <tr>\n      <th>2020-12-10</th>\n      <td>3659.129883</td>\n      <td>3678.489990</td>\n      <td>3645.179932</td>\n      <td>3668.100098</td>\n      <td>3668.100098</td>\n      <td>4618240000</td>\n    </tr>\n    <tr>\n      <th>2020-12-11</th>\n      <td>3656.080078</td>\n      <td>3665.909912</td>\n      <td>3633.399902</td>\n      <td>3663.459961</td>\n      <td>3663.459961</td>\n      <td>4367150000</td>\n    </tr>\n    <tr>\n      <th>2020-12-14</th>\n      <td>3675.270020</td>\n      <td>3697.610107</td>\n      <td>3645.840088</td>\n      <td>3647.489990</td>\n      <td>3647.489990</td>\n      <td>4594920000</td>\n    </tr>\n    <tr>\n      <th>2020-12-15</th>\n      <td>3666.409912</td>\n      <td>3695.290039</td>\n      <td>3659.620117</td>\n      <td>3694.620117</td>\n      <td>3694.620117</td>\n      <td>4360280000</td>\n    </tr>\n    <tr>\n      <th>2020-12-16</th>\n      <td>3696.250000</td>\n      <td>3711.270020</td>\n      <td>3688.570068</td>\n      <td>3701.169922</td>\n      <td>3701.169922</td>\n      <td>4056950000</td>\n    </tr>\n    <tr>\n      <th>2020-12-17</th>\n      <td>3713.649902</td>\n      <td>3725.120117</td>\n      <td>3710.870117</td>\n      <td>3722.479980</td>\n      <td>3722.479980</td>\n      <td>4184930000</td>\n    </tr>\n    <tr>\n      <th>2020-12-18</th>\n      <td>3722.389893</td>\n      <td>3726.699951</td>\n      <td>3685.840088</td>\n      <td>3709.409912</td>\n      <td>3709.409912</td>\n      <td>7068340000</td>\n    </tr>\n    <tr>\n      <th>2020-12-21</th>\n      <td>3684.280029</td>\n      <td>3702.899902</td>\n      <td>3636.479980</td>\n      <td>3694.919922</td>\n      <td>3694.919922</td>\n      <td>4732160000</td>\n    </tr>\n    <tr>\n      <th>2020-12-22</th>\n      <td>3698.080078</td>\n      <td>3698.260010</td>\n      <td>3676.159912</td>\n      <td>3687.260010</td>\n      <td>3687.260010</td>\n      <td>4023940000</td>\n    </tr>\n    <tr>\n      <th>2020-12-23</th>\n      <td>3693.419922</td>\n      <td>3711.239990</td>\n      <td>3689.280029</td>\n      <td>3690.010010</td>\n      <td>3690.010010</td>\n      <td>3772630000</td>\n    </tr>\n    <tr>\n      <th>2020-12-24</th>\n      <td>3694.030029</td>\n      <td>3703.820068</td>\n      <td>3689.320068</td>\n      <td>3703.060059</td>\n      <td>3703.060059</td>\n      <td>1885090000</td>\n    </tr>\n    <tr>\n      <th>2020-12-28</th>\n      <td>3723.030029</td>\n      <td>3740.510010</td>\n      <td>3723.030029</td>\n      <td>3735.360107</td>\n      <td>3735.360107</td>\n      <td>3527460000</td>\n    </tr>\n    <tr>\n      <th>2020-12-29</th>\n      <td>3750.010010</td>\n      <td>3756.120117</td>\n      <td>3723.310059</td>\n      <td>3727.040039</td>\n      <td>3727.040039</td>\n      <td>3387030000</td>\n    </tr>\n    <tr>\n      <th>2020-12-30</th>\n      <td>3736.189941</td>\n      <td>3744.629883</td>\n      <td>3730.209961</td>\n      <td>3732.040039</td>\n      <td>3732.040039</td>\n      <td>3145200000</td>\n    </tr>\n    <tr>\n      <th>2020-12-31</th>\n      <td>3733.270020</td>\n      <td>3760.199951</td>\n      <td>3726.879883</td>\n      <td>3756.070068</td>\n      <td>3756.070068</td>\n      <td>3172510000</td>\n    </tr>\n  </tbody>\n</table>\n</div>"
     },
     "metadata": {},
     "execution_count": 30
    }
   ],
   "source": [
    "spx = yf.download(\"^GSPC\", start=\"2020-12-01\", end=\"2021-01-01\")\n",
    "spx"
   ]
  },
  {
   "cell_type": "code",
   "execution_count": 2,
   "metadata": {},
   "outputs": [
    {
     "output_type": "execute_result",
     "data": {
      "text/plain": [
       "                   Open         High          Low        Close      Volume  \\\n",
       "Date                                                                         \n",
       "1927-12-30    17.660000    17.660000    17.660000    17.660000           0   \n",
       "1928-01-03    17.760000    17.760000    17.760000    17.760000           0   \n",
       "1928-01-04    17.719999    17.719999    17.719999    17.719999           0   \n",
       "1928-01-05    17.549999    17.549999    17.549999    17.549999           0   \n",
       "1928-01-06    17.660000    17.660000    17.660000    17.660000           0   \n",
       "...                 ...          ...          ...          ...         ...   \n",
       "2021-01-15  3788.729980  3788.729980  3749.620117  3768.250000  5353060000   \n",
       "2021-01-19  3781.879883  3804.530029  3780.370117  3798.909912  4982940000   \n",
       "2021-01-20  3816.219971  3859.750000  3816.219971  3851.850098  4551790000   \n",
       "2021-01-21  3857.459961  3861.449951  3845.050049  3853.070068  4484460000   \n",
       "2021-01-22  3844.239990  3852.310059  3830.409912  3841.469971  5080430000   \n",
       "\n",
       "            Dividends  Stock Splits  \n",
       "Date                                 \n",
       "1927-12-30          0             0  \n",
       "1928-01-03          0             0  \n",
       "1928-01-04          0             0  \n",
       "1928-01-05          0             0  \n",
       "1928-01-06          0             0  \n",
       "...               ...           ...  \n",
       "2021-01-15          0             0  \n",
       "2021-01-19          0             0  \n",
       "2021-01-20          0             0  \n",
       "2021-01-21          0             0  \n",
       "2021-01-22          0             0  \n",
       "\n",
       "[23376 rows x 7 columns]"
      ],
      "text/html": "<div>\n<style scoped>\n    .dataframe tbody tr th:only-of-type {\n        vertical-align: middle;\n    }\n\n    .dataframe tbody tr th {\n        vertical-align: top;\n    }\n\n    .dataframe thead th {\n        text-align: right;\n    }\n</style>\n<table border=\"1\" class=\"dataframe\">\n  <thead>\n    <tr style=\"text-align: right;\">\n      <th></th>\n      <th>Open</th>\n      <th>High</th>\n      <th>Low</th>\n      <th>Close</th>\n      <th>Volume</th>\n      <th>Dividends</th>\n      <th>Stock Splits</th>\n    </tr>\n    <tr>\n      <th>Date</th>\n      <th></th>\n      <th></th>\n      <th></th>\n      <th></th>\n      <th></th>\n      <th></th>\n      <th></th>\n    </tr>\n  </thead>\n  <tbody>\n    <tr>\n      <th>1927-12-30</th>\n      <td>17.660000</td>\n      <td>17.660000</td>\n      <td>17.660000</td>\n      <td>17.660000</td>\n      <td>0</td>\n      <td>0</td>\n      <td>0</td>\n    </tr>\n    <tr>\n      <th>1928-01-03</th>\n      <td>17.760000</td>\n      <td>17.760000</td>\n      <td>17.760000</td>\n      <td>17.760000</td>\n      <td>0</td>\n      <td>0</td>\n      <td>0</td>\n    </tr>\n    <tr>\n      <th>1928-01-04</th>\n      <td>17.719999</td>\n      <td>17.719999</td>\n      <td>17.719999</td>\n      <td>17.719999</td>\n      <td>0</td>\n      <td>0</td>\n      <td>0</td>\n    </tr>\n    <tr>\n      <th>1928-01-05</th>\n      <td>17.549999</td>\n      <td>17.549999</td>\n      <td>17.549999</td>\n      <td>17.549999</td>\n      <td>0</td>\n      <td>0</td>\n      <td>0</td>\n    </tr>\n    <tr>\n      <th>1928-01-06</th>\n      <td>17.660000</td>\n      <td>17.660000</td>\n      <td>17.660000</td>\n      <td>17.660000</td>\n      <td>0</td>\n      <td>0</td>\n      <td>0</td>\n    </tr>\n    <tr>\n      <th>...</th>\n      <td>...</td>\n      <td>...</td>\n      <td>...</td>\n      <td>...</td>\n      <td>...</td>\n      <td>...</td>\n      <td>...</td>\n    </tr>\n    <tr>\n      <th>2021-01-15</th>\n      <td>3788.729980</td>\n      <td>3788.729980</td>\n      <td>3749.620117</td>\n      <td>3768.250000</td>\n      <td>5353060000</td>\n      <td>0</td>\n      <td>0</td>\n    </tr>\n    <tr>\n      <th>2021-01-19</th>\n      <td>3781.879883</td>\n      <td>3804.530029</td>\n      <td>3780.370117</td>\n      <td>3798.909912</td>\n      <td>4982940000</td>\n      <td>0</td>\n      <td>0</td>\n    </tr>\n    <tr>\n      <th>2021-01-20</th>\n      <td>3816.219971</td>\n      <td>3859.750000</td>\n      <td>3816.219971</td>\n      <td>3851.850098</td>\n      <td>4551790000</td>\n      <td>0</td>\n      <td>0</td>\n    </tr>\n    <tr>\n      <th>2021-01-21</th>\n      <td>3857.459961</td>\n      <td>3861.449951</td>\n      <td>3845.050049</td>\n      <td>3853.070068</td>\n      <td>4484460000</td>\n      <td>0</td>\n      <td>0</td>\n    </tr>\n    <tr>\n      <th>2021-01-22</th>\n      <td>3844.239990</td>\n      <td>3852.310059</td>\n      <td>3830.409912</td>\n      <td>3841.469971</td>\n      <td>5080430000</td>\n      <td>0</td>\n      <td>0</td>\n    </tr>\n  </tbody>\n</table>\n<p>23376 rows × 7 columns</p>\n</div>"
     },
     "metadata": {},
     "execution_count": 2
    }
   ],
   "source": [
    "spx_t = yf.Ticker(\"^GSPC\")\n",
    "spx_t.history(period='max')"
   ]
  },
  {
   "cell_type": "code",
   "execution_count": 28,
   "metadata": {},
   "outputs": [
    {
     "output_type": "stream",
     "name": "stdout",
     "text": [
      "[*********************100%***********************]  1 of 1 completed\n"
     ]
    }
   ],
   "source": [
    "from pandas_datareader import data as pdr\n",
    "\n",
    "yf.pdr_override()\n",
    "ndata = pdr.get_data_yahoo(\"^GSPC\", start=\"2017-01-01\", end=\"2021-01-13\")"
   ]
  },
  {
   "cell_type": "code",
   "execution_count": 29,
   "metadata": {},
   "outputs": [
    {
     "output_type": "execute_result",
     "data": {
      "text/plain": [
       "                   Open         High          Low        Close    Adj Close  \\\n",
       "Date                                                                          \n",
       "2017-01-03  2251.570068  2263.879883  2245.129883  2257.830078  2257.830078   \n",
       "2017-01-04  2261.600098  2272.820068  2261.600098  2270.750000  2270.750000   \n",
       "2017-01-05  2268.179932  2271.500000  2260.449951  2269.000000  2269.000000   \n",
       "2017-01-06  2271.139893  2282.100098  2264.060059  2276.979980  2276.979980   \n",
       "2017-01-09  2273.590088  2275.489990  2268.899902  2268.899902  2268.899902   \n",
       "...                 ...          ...          ...          ...          ...   \n",
       "2021-01-06  3712.199951  3783.040039  3705.340088  3748.139893  3748.139893   \n",
       "2021-01-07  3764.709961  3811.550049  3764.709961  3803.790039  3803.790039   \n",
       "2021-01-08  3815.050049  3826.689941  3783.600098  3824.679932  3824.679932   \n",
       "2021-01-11  3803.139893  3817.860107  3789.020020  3799.610107  3799.610107   \n",
       "2021-01-12  3801.620117  3810.780029  3776.510010  3801.189941  3801.189941   \n",
       "\n",
       "                Volume  \n",
       "Date                    \n",
       "2017-01-03  3770530000  \n",
       "2017-01-04  3764890000  \n",
       "2017-01-05  3761820000  \n",
       "2017-01-06  3339890000  \n",
       "2017-01-09  3217610000  \n",
       "...                ...  \n",
       "2021-01-06  6049970000  \n",
       "2021-01-07  5080870000  \n",
       "2021-01-08  4764180000  \n",
       "2021-01-11  4450500000  \n",
       "2021-01-12  4977210000  \n",
       "\n",
       "[1014 rows x 6 columns]"
      ],
      "text/html": "<div>\n<style scoped>\n    .dataframe tbody tr th:only-of-type {\n        vertical-align: middle;\n    }\n\n    .dataframe tbody tr th {\n        vertical-align: top;\n    }\n\n    .dataframe thead th {\n        text-align: right;\n    }\n</style>\n<table border=\"1\" class=\"dataframe\">\n  <thead>\n    <tr style=\"text-align: right;\">\n      <th></th>\n      <th>Open</th>\n      <th>High</th>\n      <th>Low</th>\n      <th>Close</th>\n      <th>Adj Close</th>\n      <th>Volume</th>\n    </tr>\n    <tr>\n      <th>Date</th>\n      <th></th>\n      <th></th>\n      <th></th>\n      <th></th>\n      <th></th>\n      <th></th>\n    </tr>\n  </thead>\n  <tbody>\n    <tr>\n      <th>2017-01-03</th>\n      <td>2251.570068</td>\n      <td>2263.879883</td>\n      <td>2245.129883</td>\n      <td>2257.830078</td>\n      <td>2257.830078</td>\n      <td>3770530000</td>\n    </tr>\n    <tr>\n      <th>2017-01-04</th>\n      <td>2261.600098</td>\n      <td>2272.820068</td>\n      <td>2261.600098</td>\n      <td>2270.750000</td>\n      <td>2270.750000</td>\n      <td>3764890000</td>\n    </tr>\n    <tr>\n      <th>2017-01-05</th>\n      <td>2268.179932</td>\n      <td>2271.500000</td>\n      <td>2260.449951</td>\n      <td>2269.000000</td>\n      <td>2269.000000</td>\n      <td>3761820000</td>\n    </tr>\n    <tr>\n      <th>2017-01-06</th>\n      <td>2271.139893</td>\n      <td>2282.100098</td>\n      <td>2264.060059</td>\n      <td>2276.979980</td>\n      <td>2276.979980</td>\n      <td>3339890000</td>\n    </tr>\n    <tr>\n      <th>2017-01-09</th>\n      <td>2273.590088</td>\n      <td>2275.489990</td>\n      <td>2268.899902</td>\n      <td>2268.899902</td>\n      <td>2268.899902</td>\n      <td>3217610000</td>\n    </tr>\n    <tr>\n      <th>...</th>\n      <td>...</td>\n      <td>...</td>\n      <td>...</td>\n      <td>...</td>\n      <td>...</td>\n      <td>...</td>\n    </tr>\n    <tr>\n      <th>2021-01-06</th>\n      <td>3712.199951</td>\n      <td>3783.040039</td>\n      <td>3705.340088</td>\n      <td>3748.139893</td>\n      <td>3748.139893</td>\n      <td>6049970000</td>\n    </tr>\n    <tr>\n      <th>2021-01-07</th>\n      <td>3764.709961</td>\n      <td>3811.550049</td>\n      <td>3764.709961</td>\n      <td>3803.790039</td>\n      <td>3803.790039</td>\n      <td>5080870000</td>\n    </tr>\n    <tr>\n      <th>2021-01-08</th>\n      <td>3815.050049</td>\n      <td>3826.689941</td>\n      <td>3783.600098</td>\n      <td>3824.679932</td>\n      <td>3824.679932</td>\n      <td>4764180000</td>\n    </tr>\n    <tr>\n      <th>2021-01-11</th>\n      <td>3803.139893</td>\n      <td>3817.860107</td>\n      <td>3789.020020</td>\n      <td>3799.610107</td>\n      <td>3799.610107</td>\n      <td>4450500000</td>\n    </tr>\n    <tr>\n      <th>2021-01-12</th>\n      <td>3801.620117</td>\n      <td>3810.780029</td>\n      <td>3776.510010</td>\n      <td>3801.189941</td>\n      <td>3801.189941</td>\n      <td>4977210000</td>\n    </tr>\n  </tbody>\n</table>\n<p>1014 rows × 6 columns</p>\n</div>"
     },
     "metadata": {},
     "execution_count": 29
    }
   ],
   "source": [
    "ndata"
   ]
  },
  {
   "cell_type": "code",
   "execution_count": 33,
   "metadata": {},
   "outputs": [
    {
     "output_type": "execute_result",
     "data": {
      "text/plain": [
       "  ticker                        industry\n",
       "0    MMM        Industrial Conglomerates\n",
       "1    ABT           Health Care Equipment\n",
       "2   ABBV                 Pharmaceuticals\n",
       "3   ABMD           Health Care Equipment\n",
       "4    ACN  IT Consulting & Other Services"
      ],
      "text/html": "<div>\n<style scoped>\n    .dataframe tbody tr th:only-of-type {\n        vertical-align: middle;\n    }\n\n    .dataframe tbody tr th {\n        vertical-align: top;\n    }\n\n    .dataframe thead th {\n        text-align: right;\n    }\n</style>\n<table border=\"1\" class=\"dataframe\">\n  <thead>\n    <tr style=\"text-align: right;\">\n      <th></th>\n      <th>ticker</th>\n      <th>industry</th>\n    </tr>\n  </thead>\n  <tbody>\n    <tr>\n      <th>0</th>\n      <td>MMM</td>\n      <td>Industrial Conglomerates</td>\n    </tr>\n    <tr>\n      <th>1</th>\n      <td>ABT</td>\n      <td>Health Care Equipment</td>\n    </tr>\n    <tr>\n      <th>2</th>\n      <td>ABBV</td>\n      <td>Pharmaceuticals</td>\n    </tr>\n    <tr>\n      <th>3</th>\n      <td>ABMD</td>\n      <td>Health Care Equipment</td>\n    </tr>\n    <tr>\n      <th>4</th>\n      <td>ACN</td>\n      <td>IT Consulting &amp; Other Services</td>\n    </tr>\n  </tbody>\n</table>\n</div>"
     },
     "metadata": {},
     "execution_count": 33
    }
   ],
   "source": [
    "# all of the cells above are for testing etc\n",
    "import pandas as pd\n",
    "\n",
    "index = pd.read_csv('./data/spx_list.zip')\n",
    "index.head()"
   ]
  },
  {
   "cell_type": "code",
   "execution_count": 50,
   "metadata": {},
   "outputs": [],
   "source": [
    "companies = ''.join(f'{c} ' for c in index.ticker)"
   ]
  },
  {
   "cell_type": "code",
   "execution_count": 54,
   "metadata": {},
   "outputs": [
    {
     "output_type": "execute_result",
     "data": {
      "text/plain": [
       "'MMM ABT ABBV ABMD ACN ATVI ADBE AMD AAP AES AFL A APD AKAM ALK ALB ARE ALXN ALGN ALLE LNT ALL GOOGL GOOG MO AMZN AMCR AEE AAL AEP AXP AIG AMT AWK AMP ABC AME AMGN APH ADI ANSS ANTM AON AOS APA AAPL AMAT APTV ADM ANET AJG AIZ T ATO ADSK ADP AZO AVB AVY BKR BLL BAC BK BAX BDX BRK.B BBY BIO BIIB BLK BA BKNG BWA BXP BSX BMY AVGO BR BF.B CHRW COG CDNS CPB COF CAH KMX CCL CARR CTLT CAT CBOE CBRE CDW CE CNC CNP CERN CF SCHW CHTR CVX CMG CB CHD CI CINF CTAS CSCO C CFG CTXS CLX CME CMS KO CTSH CL CMCSA CMA CAG CXO COP ED STZ COO CPRT GLW CTVA COST CCI CSX CMI CVS DHI DHR DRI DVA DE DAL XRAY DVN DXCM FANG DLR DFS DISCA DISCK DISH DG DLTR D DPZ DOV DOW DTE DUK DRE DD DXC EMN ETN EBAY ECL EIX EW EA EMR ENPH ETR EOG EFX EQIX EQR ESS EL ETSY EVRG ES RE EXC EXPE EXPD EXR XOM FFIV FB FAST FRT FDX FIS FITB FE FRC FISV FLT FLIR FLS FMC F FTNT FTV FBHS FOXA FOX BEN FCX GPS GRMN IT GD GE GIS GM GPC GILD GL GPN GS GWW HAL HBI HIG HAS HCA PEAK HSIC HSY HES HPE HLT HFC HOLX HD HON HRL HST HWM HPQ HUM HBAN HII IEX IDXX INFO ITW ILMN INCY IR INTC ICE IBM IP IPG IFF INTU ISRG IVZ IPGP IQV IRM JKHY J JBHT SJM JNJ JCI JPM JNPR KSU K KEY KEYS KMB KIM KMI KLAC KHC KR LB LHX LH LRCX LW LVS LEG LDOS LEN LLY LNC LIN LYV LKQ LMT L LOW LUMN LYB MTB MRO MPC MKTX MAR MMC MLM MAS MA MKC MXIM MCD MCK MDT MRK MET MTD MGM MCHP MU MSFT MAA MHK TAP MDLZ MNST MCO MS MOS MSI MSCI NDAQ NTAP NFLX NWL NEM NWSA NWS NEE NLSN NKE NI NSC NTRS NOC NLOK NCLH NOV NRG NUE NVDA NVR ORLY OXY ODFL OMC OKE ORCL OTIS PCAR PKG PH PAYX PAYC PYPL PNR PBCT PEP PKI PRGO PFE PM PSX PNW PXD PNC POOL PPG PPL PFG PG PGR PLD PRU PEG PSA PHM PVH QRVO PWR QCOM DGX RL RJF RTX O REG REGN RF RSG RMD RHI ROK ROL ROP ROST RCL SPGI CRM SBAC SLB STX SEE SRE NOW SHW SPG SWKS SLG SNA SO LUV SWK SBUX STT STE SYK SIVB SYF SNPS SYY TMUS TROW TTWO TPR TGT TEL FTI TDY TFX TER TSLA TXN TXT TMO TJX TSCO TT TDG TRV TFC TWTR TYL TSN UDR ULTA USB UAA UA UNP UAL UNH UPS URI UHS UNM VLO VAR VTR VRSN VRSK VZ VRTX VFC VIAC VTRS V VNT VNO VMC WRB WAB WMT WBA DIS WM WAT WEC WFC WELL WST WDC WU WRK WY WHR WMB WLTW WYNN XEL XRX XLNX XYL YUM ZBRA ZBH ZION ZTS '"
      ]
     },
     "metadata": {},
     "execution_count": 54
    }
   ],
   "source": [
    "companies"
   ]
  },
  {
   "cell_type": "code",
   "execution_count": 57,
   "metadata": {},
   "outputs": [
    {
     "output_type": "stream",
     "name": "stdout",
     "text": [
      "[*********************100%***********************]  505 of 505 completed\n",
      "\n",
      "2 Failed downloads:\n",
      "- BF.B: No data found for this date range, symbol may be delisted\n",
      "- BRK.B: No data found, symbol may be delisted\n"
     ]
    }
   ],
   "source": [
    "spx_500 = yf.download(\n",
    "    tickers=companies, \n",
    "    period='5y', \n",
    "    group_by='ticker',\n",
    "    prepost=True,\n",
    "    threads=12\n",
    "    )"
   ]
  },
  {
   "source": [
    "Upon checking,\n",
    "* **BF.B** is Brown-Forman Corporation Class B\n",
    "* **BRK.B** is Berkshire Hathaway Inc. Class B"
   ],
   "cell_type": "markdown",
   "metadata": {}
  },
  {
   "cell_type": "code",
   "execution_count": 58,
   "metadata": {},
   "outputs": [
    {
     "output_type": "stream",
     "name": "stdout",
     "text": [
      "VNT   Open           67\n      High           67\n      Low            67\n      Close          67\n      Adj Close      67\n                   ... \nEQIX  High         1259\n      Low          1259\n      Close        1259\n      Adj Close    1259\n      Volume       1259\nLength: 3030, dtype: int64\n"
     ]
    }
   ],
   "source": [
    "print(spx_500.count())"
   ]
  },
  {
   "cell_type": "code",
   "execution_count": 66,
   "metadata": {},
   "outputs": [
    {
     "output_type": "execute_result",
     "data": {
      "text/plain": [
       "pandas.core.frame.DataFrame"
      ]
     },
     "metadata": {},
     "execution_count": 66
    }
   ],
   "source": [
    "type(spx_500)"
   ]
  },
  {
   "cell_type": "code",
   "execution_count": 68,
   "metadata": {},
   "outputs": [],
   "source": [
    "spx_500.to_csv('./data/stocks/spx_indexed.zip', compression='zip')"
   ]
  },
  {
   "source": [
    "I will check on the project notebook what company has the least ticks to compare it to my news data and see where I can do a *breakeven* before deciding whether or not I should move on using the ^GSPC ticker. Nonetheless, ^GSPC data will be available in *./data/stocks/spx_indexed.zip*"
   ],
   "cell_type": "markdown",
   "metadata": {}
  },
  {
   "cell_type": "code",
   "execution_count": null,
   "metadata": {},
   "outputs": [],
   "source": [
    "# 60d 5min\n",
    "\n",
    "spx_500_ = yf.download(\n",
    "    tickers=companies, \n",
    "    period='60d',\n",
    "    interval='5m', \n",
    "    group_by='ticker',\n",
    "    prepost=True,\n",
    "    threads=12\n",
    ")\n",
    "\n",
    "timenow = datetime.datetime.now().strftime(\"%Y-%m-%d_%H%MH -0800\")\n",
    "spx_500.to_csv(f'./data/stocks/spx_60d_5min_{timenow}.zip', compression='zip')\n"
   ]
  },
  {
   "cell_type": "code",
   "execution_count": 4,
   "metadata": {},
   "outputs": [
    {
     "output_type": "stream",
     "name": "stdout",
     "text": [
      "[*********************100%***********************]  1 of 1 completed\n",
      "\n",
      "^GSPC size: (23376, 6)\n"
     ]
    }
   ],
   "source": [
    "gspc = yf.download(\n",
    "    tickers='^GSPC', \n",
    "    period='max', \n",
    "    group_by='ticker',\n",
    "    prepost=True,\n",
    "    threads=12\n",
    "    )\n",
    "\n",
    "timenow = datetime.datetime.now().strftime(\"%Y-%m-%d_%H%MH -0800\")\n",
    "print(f'\\n^GSPC size: {gspc.shape}')\n",
    "gspc.to_csv(f'./data/gspc_max.zip', compression='zip')"
   ]
  },
  {
   "cell_type": "code",
   "execution_count": 76,
   "metadata": {},
   "outputs": [
    {
     "output_type": "stream",
     "name": "stdout",
     "text": [
      "[*********************100%***********************]  1 of 1 completed\n",
      "\n",
      "^GSPC size: (4970, 5)\n"
     ]
    }
   ],
   "source": [
    "# in 5 min. intervals (last 60d)\n",
    "spx = yf.Ticker(\"^GSPC\")\n",
    "\n",
    "gspc_ = yf.download(\n",
    "    tickers='^GSPC', \n",
    "    period='60d', \n",
    "    interval='5m',\n",
    "    group_by=spx,\n",
    "    auto_adjust=True,\n",
    "    prepost=True,\n",
    "    threads=12\n",
    "    )\n",
    "\n",
    "print(f'\\n^GSPC size: {gspc_.shape}')"
   ]
  },
  {
   "cell_type": "code",
   "execution_count": 78,
   "metadata": {},
   "outputs": [],
   "source": [
    "timenow = datetime.datetime.now().strftime(\"%Y-%m-%d_%H%MH -0800\")\n",
    "gspc_.to_csv(f'./data/stocks/gspc_60d_5min_{timenow}.zip', compression='zip')"
   ]
  }
 ]
}